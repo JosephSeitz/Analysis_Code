{
 "cells": [
  {
   "cell_type": "code",
   "execution_count": 2,
   "metadata": {},
   "outputs": [],
   "source": [
    "import os   #used for directory work\n",
    "import matplotlib.pyplot as plt #used for creating plots\n",
    "import pandas as pd\n",
    "import numpy as np\n",
    "%matplotlib inline"
   ]
  },
  {
   "cell_type": "code",
   "execution_count": 2,
   "metadata": {},
   "outputs": [],
   "source": [
    "def continuous_df(df_raw,  frequency = \".1S\"):\n",
    "    \"\"\"\n",
    "    This function takes a df and make sure that the timestamps are continous,\n",
    "    If not it creates one that is, with NaN values is missing timestamps.\n",
    "    \n",
    "    Inputs:\n",
    "        df_raw - the df with timestamestamps trimed \n",
    "        t_s - time that the df should start\n",
    "        t_e - time that the df should end\n",
    "        frequency - the frequency of the timestamps, def is 10Hz \n",
    "    \n",
    "    Outputs:\n",
    "        df/df_raw - the edited/non-edited continuous dataframe\n",
    "    \"\"\"\n",
    "    t_s, t_e = df_raw[\"TIMESTAMP\"][0], df_raw[\"TIMESTAMP\"][len(df_raw)-1]\n",
    "    t=list(pd.date_range(t_s, t_e, freq=frequency)) #timestamps wanted\n",
    "    if len(t)==len(df_raw):\n",
    "        print(\"There Were 0 Missing Timestamps\")\n",
    "        \n",
    "        return(df_raw)\n",
    "    \n",
    "    if len(t) != len(df_raw):\n",
    "        col_order = list(df_raw.columns)\n",
    "        df_raw = df_raw.set_index(\"TIMESTAMP\") \n",
    "\n",
    "\n",
    "        df = pd.DataFrame(columns = list(df_raw.columns), index = t) #create NaN df\n",
    "        df.update(df_raw) # Add the data onto NaN df\n",
    "\n",
    "\n",
    "        df=df.reset_index(drop=True)\n",
    "        df['TIMESTAMP']= t\n",
    "        df = df[col_order]\n",
    "        ### Show what was accomplished\n",
    "        #gaps = 0 \n",
    "        #for j in range(len(df)):\n",
    "        #    if np.isnan(df[\"RECORD\"][j]):\n",
    "        #        gaps+=1\n",
    "        #print(\"There Were\",gaps,\"Missing Timestamps\")\n",
    "\n",
    "        return df"
   ]
  },
  {
   "cell_type": "code",
   "execution_count": 3,
   "metadata": {},
   "outputs": [],
   "source": [
    "def text_finder(path):\n",
    "    txt_files=[]\n",
    "    all_files = os.listdir(path) #tells what directory the files are in\n",
    "    for i in all_files: #reading only the .txt files \n",
    "        if i[-4:] == \".txt\":\n",
    "            txt_files.append(i)\n",
    "    txt_files.sort() #alphabetizes them\n",
    "    \n",
    "    return txt_files\n",
    "\n",
    "def file_to_df(path):\n",
    "    df= pd.read_csv(path,na_values = ['NAN', \"00nan\"], sep=\" \")\n",
    "    timestamp_lst = []\n",
    "    for t in range(len(df)):\n",
    "        timestamp_lst.append(pd.Timestamp(str(df[\"YYYY\"][t])+\"-\"+str(df[\"MM\"][t])+\"-\"+str(df[\"DD\"][t]) +\" \"+str(df[\"Hr\"][t])+\":\"+str(df[\"Min\"][t])+\":\"+str(df[\"Sec\"][t]),freq = \".1S\"))\n",
    "    df[\"TIMESTAMP\"] = timestamp_lst\n",
    "    return df"
   ]
  },
  {
   "cell_type": "code",
   "execution_count": 4,
   "metadata": {},
   "outputs": [],
   "source": [
    "def fire_start(df):    \n",
    "    ### Finding the start of fire\n",
    "    x_fire, fire_5sig = 9e10, np.nanmean(df[\"T\"])+5*np.std(df[\"T\"]) \n",
    "    for i in range(len(df[\"T\"])):\n",
    "        if df[\"T\"][i] > fire_5sig:\n",
    "            x_fire = i\n",
    "            break\n",
    "    \n",
    "    return x_fire"
   ]
  },
  {
   "cell_type": "code",
   "execution_count": 18,
   "metadata": {},
   "outputs": [],
   "source": [
    "n_list = [21000,15000,20000,30000,15000,6000,25000,18000,30000,60000,50000,180000,40000,25000,25000,27000,\\\n",
    "         45000,20000,25000,25000,35000,27000,25000,15000,35000,45000,20000,40000]\n",
    "#path = \"/home/JoeySeitz/10X10_Truss_SERDP_Burns/JS_Cleaned_Data/Burn-\"\n",
    "#path=\"/home/joey/Desktop/10X10_Truss_SERDP_Burns/JS_Cleaned_Data/Burn-\" #79 \n",
    "path = \"/Users/joeyp/Desktop/10X10_Truss_SERDP_Burns/JS_Cleaned_Data/Burn-\" #w10\n",
    "path_end = \"/sonics/\"\n",
    "burns = [1,2,3,4,5,6,7,8,11,12,13,18,19,20,21,22,23,24,25,26,27,28,29,30,31,32,33,34]"
   ]
  },
  {
   "cell_type": "code",
   "execution_count": 19,
   "metadata": {
    "scrolled": true
   },
   "outputs": [
    {
     "name": "stdout",
     "output_type": "stream",
     "text": [
      "/Users/joeyp/Desktop/10X10_Truss_SERDP_Burns/JS_Cleaned_Data/Burn-1/sonics/\n",
      "2018-03-05 14:07:28.500000\n",
      "2018-03-05 14:09:37.400000\n",
      "/Users/joeyp/Desktop/10X10_Truss_SERDP_Burns/JS_Cleaned_Data/Burn-2/sonics/\n",
      "2018-03-06 11:29:26.900000\n",
      "2018-03-06 11:29:24.100000\n",
      "/Users/joeyp/Desktop/10X10_Truss_SERDP_Burns/JS_Cleaned_Data/Burn-3/sonics/\n",
      "2018-03-06 13:27:10.900000\n",
      "2018-03-06 13:27:40.500000\n",
      "/Users/joeyp/Desktop/10X10_Truss_SERDP_Burns/JS_Cleaned_Data/Burn-4/sonics/\n",
      "2018-03-17 10:45:10.300000\n",
      "2018-03-17 10:53:28.200000\n",
      "/Users/joeyp/Desktop/10X10_Truss_SERDP_Burns/JS_Cleaned_Data/Burn-5/sonics/\n",
      "2018-03-17 12:40:58.500000\n",
      "2018-03-17 12:42:35.900000\n",
      "/Users/joeyp/Desktop/10X10_Truss_SERDP_Burns/JS_Cleaned_Data/Burn-6/sonics/\n",
      "2018-03-17 14:43:33.100000\n",
      "2018-03-17 14:44:27.500000\n",
      "/Users/joeyp/Desktop/10X10_Truss_SERDP_Burns/JS_Cleaned_Data/Burn-7/sonics/\n",
      "2018-05-09 10:57:18.500000\n",
      "2018-05-09 11:02:00.700000\n",
      "/Users/joeyp/Desktop/10X10_Truss_SERDP_Burns/JS_Cleaned_Data/Burn-8/sonics/\n"
     ]
    },
    {
     "name": "stderr",
     "output_type": "stream",
     "text": [
      "C:\\ProgramData\\Anaconda3\\lib\\site-packages\\ipykernel_launcher.py:3: RuntimeWarning: Mean of empty slice\n",
      "  This is separate from the ipykernel package so we can avoid doing imports until\n"
     ]
    },
    {
     "name": "stdout",
     "output_type": "stream",
     "text": [
      "2018-05-09 12:49:29.400000\n",
      "2018-05-09 12:52:30.400000\n",
      "/Users/joeyp/Desktop/10X10_Truss_SERDP_Burns/JS_Cleaned_Data/Burn-11/sonics/\n",
      "2018-05-11 09:41:20.700000\n",
      "2018-05-11 09:42:28.800000\n",
      "/Users/joeyp/Desktop/10X10_Truss_SERDP_Burns/JS_Cleaned_Data/Burn-12/sonics/\n",
      "2018-05-11 11:56:11.300000\n",
      "2018-05-11 12:01:05\n",
      "/Users/joeyp/Desktop/10X10_Truss_SERDP_Burns/JS_Cleaned_Data/Burn-13/sonics/\n",
      "2018-05-11 14:03:37.400000\n",
      "2018-05-11 14:12:10.500000\n",
      "/Users/joeyp/Desktop/10X10_Truss_SERDP_Burns/JS_Cleaned_Data/Burn-18/sonics/\n",
      "2018-09-22 14:05:43\n",
      "2018-09-22 11:14:35\n",
      "/Users/joeyp/Desktop/10X10_Truss_SERDP_Burns/JS_Cleaned_Data/Burn-19/sonics/\n",
      "2018-09-22 16:32:56\n",
      "2018-09-22 15:30:33.700000\n",
      "/Users/joeyp/Desktop/10X10_Truss_SERDP_Burns/JS_Cleaned_Data/Burn-20/sonics/\n",
      "2019-05-20 14:24:50.400000\n",
      "2019-05-20 13:57:54.600000\n",
      "/Users/joeyp/Desktop/10X10_Truss_SERDP_Burns/JS_Cleaned_Data/Burn-21/sonics/\n",
      "2019-05-20 16:05:47.600000\n",
      "2019-05-20 16:10:29.800000\n",
      "/Users/joeyp/Desktop/10X10_Truss_SERDP_Burns/JS_Cleaned_Data/Burn-22/sonics/\n",
      "2019-05-20 17:51:37.600000\n",
      "2019-05-20 17:43:33\n",
      "/Users/joeyp/Desktop/10X10_Truss_SERDP_Burns/JS_Cleaned_Data/Burn-23/sonics/\n",
      "2019-05-21 12:07:39.700000\n",
      "2019-05-21 12:14:04.300000\n",
      "/Users/joeyp/Desktop/10X10_Truss_SERDP_Burns/JS_Cleaned_Data/Burn-24/sonics/\n",
      "2019-05-21 14:02:12\n",
      "2019-05-21 14:07:13.500000\n",
      "/Users/joeyp/Desktop/10X10_Truss_SERDP_Burns/JS_Cleaned_Data/Burn-25/sonics/\n",
      "2019-05-21 15:43:52.100000\n",
      "2019-05-21 15:46:51.800000\n",
      "/Users/joeyp/Desktop/10X10_Truss_SERDP_Burns/JS_Cleaned_Data/Burn-26/sonics/\n",
      "2019-05-21 17:20:32.100000\n",
      "2019-05-21 17:23:43\n",
      "/Users/joeyp/Desktop/10X10_Truss_SERDP_Burns/JS_Cleaned_Data/Burn-27/sonics/\n",
      "2019-05-22 10:45:58.200000\n",
      "2019-05-22 10:49:09.800000\n",
      "/Users/joeyp/Desktop/10X10_Truss_SERDP_Burns/JS_Cleaned_Data/Burn-28/sonics/\n",
      "2019-05-22 12:25:20.100000\n",
      "2019-05-22 12:28:07.400000\n",
      "/Users/joeyp/Desktop/10X10_Truss_SERDP_Burns/JS_Cleaned_Data/Burn-29/sonics/\n",
      "2019-05-22 14:12:00.200000\n",
      "2019-05-22 13:43:44.900000\n",
      "/Users/joeyp/Desktop/10X10_Truss_SERDP_Burns/JS_Cleaned_Data/Burn-30/sonics/\n",
      "2019-05-22 15:20:20.200000\n",
      "2019-05-22 15:18:35.600000\n",
      "/Users/joeyp/Desktop/10X10_Truss_SERDP_Burns/JS_Cleaned_Data/Burn-31/sonics/\n",
      "2019-05-29 10:58:20.100000\n",
      "2019-05-29 10:51:44.700000\n",
      "/Users/joeyp/Desktop/10X10_Truss_SERDP_Burns/JS_Cleaned_Data/Burn-32/sonics/\n",
      "2019-05-29 13:25:00.100000\n",
      "2019-05-29 12:53:49.500000\n",
      "/Users/joeyp/Desktop/10X10_Truss_SERDP_Burns/JS_Cleaned_Data/Burn-33/sonics/\n",
      "2019-05-29 16:03:20.200000\n",
      "2019-05-29 15:30:18.500000\n",
      "/Users/joeyp/Desktop/10X10_Truss_SERDP_Burns/JS_Cleaned_Data/Burn-34/sonics/\n",
      "2019-05-31 11:06:40.100000\n",
      "2019-05-31 11:12:50.300000\n"
     ]
    }
   ],
   "source": [
    "for file_count in range(len(burns)):\n",
    "    burn_path= str(path + str(burns[file_count])+path_end)\n",
    "    print(burn_path)\n",
    "    txt_files = text_finder(burn_path)\n",
    "    ### Load in the DF and find the begining of the fire of all sonics\n",
    "    df_list, x_fire_lst = [], []\n",
    "    for i in range(16):\n",
    "\n",
    "        df = file_to_df(burn_path + txt_files[i])\n",
    "        x_fire_lst.append(fire_start(df))\n",
    "        df_list.append(df)\n",
    "\n",
    "    n_fire = min(x_fire_lst)\n",
    "    print(df[\"TIMESTAMP\"][n_list[file_count]])\n",
    "    print(df[\"TIMESTAMP\"][n_fire])"
   ]
  },
  {
   "cell_type": "code",
   "execution_count": 22,
   "metadata": {},
   "outputs": [
    {
     "name": "stdout",
     "output_type": "stream",
     "text": [
      "2018-05-10 10:43:06.400000\n",
      "2018-05-10 10:51:31.100000\n"
     ]
    }
   ],
   "source": [
    "burn_path= str(path + str(9)+path_end)\n",
    "txt_files = text_finder(burn_path)\n",
    "### Load in the DF and find the begining of the fire of all sonics\n",
    "df_list, x_fire_lst = [], []\n",
    "for i in range(16):\n",
    "\n",
    "    df = file_to_df(burn_path + txt_files[i])\n",
    "    x_fire_lst.append(fire_start(df))\n",
    "    df_list.append(df)\n",
    "\n",
    "n_fire = min(x_fire_lst)\n",
    "print(df[\"TIMESTAMP\"][20000])\n",
    "print(df[\"TIMESTAMP\"][n_fire])"
   ]
  },
  {
   "cell_type": "code",
   "execution_count": 7,
   "metadata": {},
   "outputs": [
    {
     "name": "stdout",
     "output_type": "stream",
     "text": [
      "There Were 0 Missing Timestamps\n",
      "There Were 0 Missing Timestamps\n"
     ]
    }
   ],
   "source": [
    "pathA1 = \"/Users/joeyp/Desktop/Data_Cleaning_Code/Burn-1/sonics/A1_UVWT_Burn-1.txt\"\n",
    "dfA1= continuous_df(pd.read_csv(pathA1,na_values = ['NAN', \"00nan\",\"NaN\"], sep=\" \"))\n",
    "pathB1 = \"/Users/joeyp/Desktop/Data_Cleaning_Code/Burn-1/sonics/B1_UVWT_Burn-1.txt\"\n",
    "dfB1 = continuous_df(pd.read_csv(pathB1,na_values = ['NAN', \"00nan\",\"NaN\"], sep=\" \"))\n",
    "#path = \"/Users/joeyp/Desktop/Data_Cleaning_Code/Burn-1/sonics/B1_UVWT_Burn-1.txt\"\n",
    "#dfC1 =  pd.read_csv(pathA1,na_values = ['NAN', \"00nan\",\"NaN\"], sep=\" \")"
   ]
  },
  {
   "cell_type": "code",
   "execution_count": 8,
   "metadata": {},
   "outputs": [
    {
     "name": "stdout",
     "output_type": "stream",
     "text": [
      "76453\n",
      "76453\n"
     ]
    }
   ],
   "source": [
    "print(len(dfB1))\n",
    "print(len(dfA1))"
   ]
  },
  {
   "cell_type": "code",
   "execution_count": 8,
   "metadata": {},
   "outputs": [],
   "source": [
    "df2 = file_to_df(\"http://35.12.130.8/study/Seitz/10X10_Truss_SERDP_Burns/JS_Cleaned_Data/Burn-1/sonics/B1_UVWT_Burn-1.txt\")"
   ]
  },
  {
   "cell_type": "code",
   "execution_count": 9,
   "metadata": {},
   "outputs": [
    {
     "data": {
      "text/plain": [
       "76453"
      ]
     },
     "execution_count": 9,
     "metadata": {},
     "output_type": "execute_result"
    }
   ],
   "source": [
    "len(df2)"
   ]
  },
  {
   "cell_type": "code",
   "execution_count": 10,
   "metadata": {},
   "outputs": [],
   "source": [
    "dfC = file_to_df(\"http://35.12.130.8/study/Seitz/10X10_Truss_SERDP_Burns/JS_Cleaned_Data/Burn-1/sonics/C1_UVWT_Burn-1.txt\")"
   ]
  },
  {
   "cell_type": "code",
   "execution_count": 12,
   "metadata": {},
   "outputs": [
    {
     "data": {
      "text/plain": [
       "76453"
      ]
     },
     "execution_count": 12,
     "metadata": {},
     "output_type": "execute_result"
    }
   ],
   "source": [
    "len(dfC)"
   ]
  },
  {
   "cell_type": "code",
   "execution_count": 67,
   "metadata": {},
   "outputs": [
    {
     "name": "stdout",
     "output_type": "stream",
     "text": [
      "What to replace NaN's with? ex: 9999:NaN\n",
      "<class 'str'>\n"
     ]
    }
   ],
   "source": [
    "fill_nan = input(\"What to replace NaN's with? ex: 9999:\")\n",
    "print(type(fill_nan))"
   ]
  },
  {
   "cell_type": "code",
   "execution_count": 52,
   "metadata": {},
   "outputs": [
    {
     "name": "stdout",
     "output_type": "stream",
     "text": [
      "A1 24.08\n",
      "A2 25.12\n",
      "A3 23.63\n",
      "A4 23.86\n",
      "B1 24.99\n",
      "B2 nan\n",
      "B3 25.89\n",
      "B4 24.07\n",
      "C1 24.96\n",
      "C2 24.24\n",
      "C3 23.77\n",
      "C4 24.31\n",
      "D1 23.3\n",
      "D2 23.73\n",
      "D3 24.41\n",
      "D4 24.4\n"
     ]
    }
   ],
   "source": [
    "path = \"/Users/joeyp/Desktop/10X10_Truss_SERDP_Burns/JS_Cleaned_Data/Full-Timestamp/Burn-8/sonics/\"\n",
    "path_end = \"_UVWT_Burn-8.txt\"\n",
    "nam_snc=[\"A1\", \"A2\", \"A3\", \"A4\", \"B1\", \"B2\", \"B3\", \"B4\", \"C1\",\"C2\",\\\n",
    "                   \"C3\",\"C4\",\"D1\",\"D2\",\"D3\",\"D4\"]\n",
    "temp_mean = []\n",
    "for i in nam_snc:\n",
    "    df= pd.read_csv(path+i+path_end,na_values = ['NAN','NaN' \"00nan\"], sep=\" \")\n",
    "    print(i,round(df[\"T\"][:19810].mean(),2))\n",
    "    temp_mean.append(df[\"T\"][:19810].mean())"
   ]
  },
  {
   "cell_type": "code",
   "execution_count": 53,
   "metadata": {},
   "outputs": [
    {
     "name": "stdout",
     "output_type": "stream",
     "text": [
      "A Truss mean: 24.17\n",
      "B Truss mean: 24.98\n",
      "C Truss mean: 24.32\n",
      "D Truss mean: 23.96\n"
     ]
    }
   ],
   "source": [
    "print(\"A Truss mean:\", round(np.mean(temp_mean[:4]),2))\n",
    "print(\"B Truss mean:\", round(np.nanmean(temp_mean[4:8]),2))\n",
    "print(\"C Truss mean:\", round(np.mean(temp_mean[8:12]),2))\n",
    "print(\"D Truss mean:\", round(np.mean(temp_mean[12:]),2))"
   ]
  },
  {
   "cell_type": "code",
   "execution_count": 25,
   "metadata": {},
   "outputs": [
    {
     "data": {
      "text/plain": [
       "['A2', 'A3', 'A4', 'B1', 'B2', 'B3', 'B4']"
      ]
     },
     "execution_count": 25,
     "metadata": {},
     "output_type": "execute_result"
    }
   ],
   "source": [
    "nam_snc[1:8]"
   ]
  },
  {
   "cell_type": "code",
   "execution_count": 26,
   "metadata": {},
   "outputs": [
    {
     "data": {
      "text/plain": [
       "[2, 3, 4, 5, 6, 7, 8]"
      ]
     },
     "execution_count": 26,
     "metadata": {},
     "output_type": "execute_result"
    }
   ],
   "source": [
    "lst = [1,2,3,4,5,6,7,8]\n",
    "lst[1:8]"
   ]
  },
  {
   "cell_type": "code",
   "execution_count": 47,
   "metadata": {},
   "outputs": [
    {
     "name": "stdout",
     "output_type": "stream",
     "text": [
      "19810\n"
     ]
    }
   ],
   "source": [
    "for i in range(len(df)):\n",
    "    if df[\"TIMESTAMP\"][i]==\"2018-05-09 12:52:30.400\":\n",
    "        print(i)"
   ]
  },
  {
   "cell_type": "code",
   "execution_count": null,
   "metadata": {},
   "outputs": [],
   "source": []
  }
 ],
 "metadata": {
  "kernelspec": {
   "display_name": "Python 3",
   "language": "python",
   "name": "python3"
  },
  "language_info": {
   "codemirror_mode": {
    "name": "ipython",
    "version": 3
   },
   "file_extension": ".py",
   "mimetype": "text/x-python",
   "name": "python",
   "nbconvert_exporter": "python",
   "pygments_lexer": "ipython3",
   "version": "3.7.6"
  }
 },
 "nbformat": 4,
 "nbformat_minor": 2
}
