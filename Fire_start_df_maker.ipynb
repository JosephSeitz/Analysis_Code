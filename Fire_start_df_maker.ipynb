{
 "cells": [
  {
   "cell_type": "code",
   "execution_count": 1,
   "metadata": {},
   "outputs": [],
   "source": [
    "import scipy as sc\n",
    "from scipy import signal\n",
    "import os   #used for directory work\n",
    "import matplotlib.pyplot as plt #used for creating plots\n",
    "import pandas as pd\n",
    "import numpy as np\n",
    "import matplotlib.patches as mpatches #used for plot legends\n",
    "%matplotlib inline"
   ]
  },
  {
   "cell_type": "code",
   "execution_count": 2,
   "metadata": {},
   "outputs": [],
   "source": [
    "burn_d = {'01': [21000 ,22289], '02': [14000, 14972], '03': [20000, 20296], '04': [30000, 34979], '05': [15000, 15974], \\\n",
    "          '06': [6000, 6544], '07': [25000, 27822], '08': [18000, 19810], '09': [20000, 25047], '11': [30000,30681],  \\\n",
    "          '12': [60000, 62937], '13': [50000, 55131], '18': [185000, 192322], '19': [45000, 48831], '20': [24000, 25860],\\\n",
    "          '21': [25000, 27822], '22': [27000, 29484], '23': [45000, 48846], '24': [20000, 23015], '25': [25000, 26797], \\\n",
    "          '26': [25000, 26909], '27': [35000, 36916], '28': [27000, 28673], '29': [25000, 28166], '30': [12000, 13954], \\\n",
    "          '31': [30000, 31046], '32': [25000, 26294], '33': [20000, 23293], '34': [40000,43702]}"
   ]
  },
  {
   "cell_type": "code",
   "execution_count": 3,
   "metadata": {},
   "outputs": [],
   "source": [
    "def text_finder(path):\n",
    "    txt_files=[]\n",
    "    all_files = os.listdir(path) #tells what directory the files are in\n",
    "    for i in all_files: #reading only the .txt files \n",
    "        if i[-4:] == \".txt\":\n",
    "            txt_files.append(i)\n",
    "    txt_files.sort() #alphabetizes them\n",
    "    \n",
    "    return txt_files\n",
    "\n",
    "def file_to_df(path):\n",
    "    df= pd.read_csv(path,na_values = ['NAN', \"00nan\", \"NaN\", \"000nan\"], sep=\" \")\n",
    "    return df\n",
    "\n",
    "                \n",
    "def fire_start(df,n, n_sig = 5):    \n",
    "    ### Finding the start of fire\n",
    "    x_fire, fire_5sig = 9e10, np.nanmean(df[\"T\"][:n])+n_sig*np.std(df[\"T\"][:n]) \n",
    "    start = n-9000\n",
    "    if n-9000< 0:\n",
    "        start = 0\n",
    "    #print(5*np.std(df[\"T\"][start:n]))\n",
    "    for i in range(n, len(df[\"T\"])):\n",
    "        if df[\"T\"][i] > fire_5sig:\n",
    "            x_fire = i\n",
    "            break\n",
    "    \n",
    "    return x_fire\n",
    "\n",
    "def fire_start_value(df,n,value = 10):    \n",
    "    ### Finding the start of fire\n",
    "    x_fire, fire_val = 9e10, np.nanmean(df[\"T\"][:n])+value \n",
    "    start = n-9000\n",
    "    if n-9000< 0:\n",
    "        start = 0\n",
    "    for i in range(n, len(df[\"T\"])):\n",
    "        if df[\"T\"][i] > fire_val:\n",
    "            x_fire = i\n",
    "            break\n",
    "    \n",
    "    return x_fire"
   ]
  },
  {
   "cell_type": "code",
   "execution_count": 4,
   "metadata": {},
   "outputs": [
    {
     "name": "stderr",
     "output_type": "stream",
     "text": [
      "C:\\ProgramData\\Anaconda3\\lib\\site-packages\\ipykernel_launcher.py:18: RuntimeWarning: Mean of empty slice\n"
     ]
    }
   ],
   "source": [
    "path = \"/Users/joeyp/Desktop/10X10_Truss_SERDP_Burns/JS_Cleaned_Data/Full-Timestamp/Burn-\" #w10\n",
    "path_end = \"/sonics/\"\n",
    "sc_name_lst= [\"A1\",\"A2\", \"A3\", \"A4\", \"B1\", \"B2\", \"B3\", \"B4\", \\\n",
    "                 \"C1\", \"C2\", \"C3\", \"C4\", \"D1\", \"D2\", \"D3\", \"D4\"]\n",
    "df_index_lst = []\n",
    "\n",
    "for brn in list(burn_d.keys()):\n",
    "    for snc in sc_name_lst:\n",
    "        df_index_lst.append(str(\"B\"+brn+snc))\n",
    "\n",
    "df_fire_starts = pd.DataFrame()              \n",
    "df_fire_starts[\"BRNSNC\"] = df_index_lst\n",
    "val_lst = [0,2, 4, 6, 8, 10, 12.5, 15, 17.5, 20]\n",
    "sig_val_lst = [0,3,5,8,10,15,20,25,30,35]\n",
    "for sig in sig_val_lst:\n",
    "    f_s_lst, f_t_lst = [],[]\n",
    "    for brn in range(len(list(burn_d.keys()))):\n",
    "        burn = list(burn_d.keys())[brn]\n",
    "        p = path+burn+ path_end\n",
    "        files = text_finder(p)\n",
    "        df_list = []\n",
    "        for i in range(16):\n",
    "            df_list.append(file_to_df(p+files[i]))\n",
    "\n",
    "\n",
    "        for df in range(len(df_list)):\n",
    "            f_s = fire_start(df_list[df], burn_d[burn][0],sig)\n",
    "            if f_s ==  9e10:\n",
    "                f_s_lst.append(np.nan)\n",
    "                f_t_lst.append(np.nan)\n",
    "                continue\n",
    "            f_t = df_list[df][\"TIMESTAMP\"][f_s]\n",
    "            f_s_lst.append(int(f_s))\n",
    "            f_t_lst.append(f_t)\n",
    "\n",
    "    df_fire_starts[\"brn_ts_\"+str(sig)+\"_sig\"] = f_t_lst\n",
    "    df_fire_starts[\"brn_id_\"+str(sig)+\"_sig\"] = f_s_lst\n"
   ]
  },
  {
   "cell_type": "code",
   "execution_count": 5,
   "metadata": {},
   "outputs": [
    {
     "name": "stderr",
     "output_type": "stream",
     "text": [
      "C:\\ProgramData\\Anaconda3\\lib\\site-packages\\ipykernel_launcher.py:32: RuntimeWarning: Mean of empty slice\n"
     ]
    }
   ],
   "source": [
    "val_lst = [0,2, 4, 6, 8, 10, 12.5, 15, 17.5, 20]\n",
    "for val in val_lst:\n",
    "    f_s_lst, f_t_lst = [],[]\n",
    "    for brn in range(len(list(burn_d.keys()))):\n",
    "        burn = list(burn_d.keys())[brn]\n",
    "        p = path+burn+ path_end\n",
    "        files = text_finder(p)\n",
    "        df_list = []\n",
    "        for i in range(16):\n",
    "            df_list.append(file_to_df(p+files[i]))\n",
    "\n",
    "\n",
    "        for df in range(len(df_list)):\n",
    "            f_s = fire_start_value(df_list[df], burn_d[burn][0],val)\n",
    "            if f_s ==  9e10:\n",
    "                f_s_lst.append(np.nan)\n",
    "                f_t_lst.append(np.nan)\n",
    "                continue\n",
    "            f_t = df_list[df][\"TIMESTAMP\"][f_s]\n",
    "            f_s_lst.append(int(f_s))\n",
    "            f_t_lst.append(f_t)\n",
    "\n",
    "    df_fire_starts[\"brn_ts_+\"+str(val)+\"C\"] = f_t_lst\n",
    "    df_fire_starts[\"brn_id_+\"+str(val)+\"C\"] = f_s_lst"
   ]
  },
  {
   "cell_type": "code",
   "execution_count": 8,
   "metadata": {},
   "outputs": [
    {
     "name": "stdout",
     "output_type": "stream",
     "text": [
      "Value for NaN:NaN\n"
     ]
    }
   ],
   "source": [
    "fill_nan = input(\"Value for NaN:\")\n",
    "df_fire_starts.fillna(value=fill_nan, inplace=True)"
   ]
  },
  {
   "cell_type": "code",
   "execution_count": 9,
   "metadata": {},
   "outputs": [],
   "source": [
    "df_fire_starts.to_csv(\"fire_starts_dataframe.txt\", sep=' ',index=False)"
   ]
  },
  {
   "cell_type": "code",
   "execution_count": 139,
   "metadata": {},
   "outputs": [
    {
     "name": "stdout",
     "output_type": "stream",
     "text": [
      "['0 ${\\\\sigma}$', '3 ${\\\\sigma}$', '5 ${\\\\sigma}$', '8 ${\\\\sigma}$', '10 ${\\\\sigma}$', '15 ${\\\\sigma}$', '20 ${\\\\sigma}$', '25 ${\\\\sigma}$', '30 ${\\\\sigma}$', '35 ${\\\\sigma}$'] ['0 $^{\\\\circ}C$', '2 $^{\\\\circ}C$', '4 $^{\\\\circ}C$', '6 $^{\\\\circ}C$', '8 $^{\\\\circ}C$', '10 $^{\\\\circ}C$', '12.5 $^{\\\\circ}C$', '15 $^{\\\\circ}C$', '17.5 $^{\\\\circ}C$', '20 $^{\\\\circ}C$']\n"
     ]
    }
   ],
   "source": [
    "val_lst = [0,2, 4, 6, 8, 10, 12.5, 15, 17.5, 20]\n",
    "sig_val_lst = [0,3,5,8,10,15,20,25,30,35]\n",
    "for i in range(len(sig_val_lst)):\n",
    "    sig_val_lst[i] = str(sig_val_lst[i])+\" ${\\sigma}$\"\n",
    "    val_lst[i]= str(val_lst[i])+\" $^{\\circ}C$\"\n",
    "print(sig_val_lst, val_lst)"
   ]
  },
  {
   "cell_type": "code",
   "execution_count": 154,
   "metadata": {},
   "outputs": [
    {
     "data": {
      "image/png": "[encoded data removed]",
      "text/plain": [
       "<Figure size 576x432 with 1 Axes>"
      ]
     },
     "metadata": {
      "needs_background": "light"
     },
     "output_type": "display_data"
    }
   ],
   "source": [
    "cols =list(df_fire_starts.columns)\n",
    "y_vals, x_vals, c = [], [], 0\n",
    "for i in range(3, len(cols),2):\n",
    "    if i == 21:\n",
    "        continue\n",
    "    y_vals.append(((464)-(list(df_fire_starts[cols[i]]).count(np.nan))))#/(464-29))\n",
    "    x_vals.append(c)\n",
    "    c+=1\n",
    "\n",
    "plt.figure(figsize = (8,6))    \n",
    "#plt.grid(color='gray', linestyle='solid')\n",
    "plt.bar(x_vals, y_vals)\n",
    "plt.ylabel(\"# of Sonics left\")\n",
    "plt.xlabel(\"Temperature Strength\")\n",
    "plt.ylim(300,464)\n",
    "plt.xlim(-.5,len(cols)/2-3)\n",
    "plt.xticks(x_vals,list( sig_val_lst[1:]+val_lst[1:]),rotation = 45)\n",
    "plt.hlines(435,-5,200, linestyle = \"--\")\n",
    "#plt.grid(\"major\")\n",
    "#plt.xticklabels(sig_val_lst+val_lst)\n",
    "plt.show()"
   ]
  },
  {
   "cell_type": "code",
   "execution_count": null,
   "metadata": {},
   "outputs": [],
   "source": []
  }
 ],
 "metadata": {
  "kernelspec": {
   "display_name": "Python 3",
   "language": "python",
   "name": "python3"
  },
  "language_info": {
   "codemirror_mode": {
    "name": "ipython",
    "version": 3
   },
   "file_extension": ".py",
   "mimetype": "text/x-python",
   "name": "python",
   "nbconvert_exporter": "python",
   "pygments_lexer": "ipython3",
   "version": "3.8.3"
  }
 },
 "nbformat": 4,
 "nbformat_minor": 4
}
