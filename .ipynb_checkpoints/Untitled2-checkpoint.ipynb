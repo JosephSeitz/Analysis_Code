{
 "cells": [
  {
   "cell_type": "code",
   "execution_count": 1,
   "metadata": {},
   "outputs": [],
   "source": [
    "import scipy as sc\n",
    "from scipy import signal\n",
    "import os   #used for directory work\n",
    "import matplotlib.pyplot as plt #used for creating plots\n",
    "import pandas as pd\n",
    "import numpy as np\n",
    "import matplotlib.patches as mpatches #used for plot legends\n",
    "%matplotlib inline"
   ]
  },
  {
   "cell_type": "code",
   "execution_count": 2,
   "metadata": {},
   "outputs": [],
   "source": [
    "burn_d = {'01': [21000 ,22289], '02': [14000, 14972], '03': [20000, 20296], '04': [30000, 34979], '05': [15000, 15974], \\\n",
    "          '06': [6000, 6544], '07': [25000, 27822], '08': [18000, 19810], '09': [20000, 25047], '11': [30000,30681],  \\\n",
    "          '12': [60000, 62937], '13': [50000, 55131], '18': [185000, 192322], '19': [45000, 48831], '20': [24000, 25860],\\\n",
    "          '21': [25000, 27822], '22': [27000, 29484], '23': [45000, 48846], '24': [20000, 23015], '25': [25000, 26797], \\\n",
    "          '26': [25000, 26909], '27': [35000, 36916], '28': [27000, 28673], '29': [25000, 28166], '30': [12000, 13954], \\\n",
    "          '31': [30000, 31046], '32': [25000, 26294], '33': [20000, 23293], '34': [40000,43702]}"
   ]
  },
  {
   "cell_type": "code",
   "execution_count": 5,
   "metadata": {},
   "outputs": [],
   "source": [
    "def text_finder(path):\n",
    "    txt_files=[]\n",
    "    all_files = os.listdir(path) #tells what directory the files are in\n",
    "    for i in all_files: #reading only the .txt files \n",
    "        if i[-4:] == \".txt\":\n",
    "            txt_files.append(i)\n",
    "    txt_files.sort() #alphabetizes them\n",
    "    \n",
    "    return txt_files\n",
    "\n",
    "def file_to_df(path):\n",
    "    df= pd.read_csv(path,na_values = ['NAN', \"00nan\", \"NaN\", \"000nan\"], sep=\" \")\n",
    "    return df\n",
    "\n",
    "        "
   ]
  },
  {
   "cell_type": "code",
   "execution_count": 8,
   "metadata": {},
   "outputs": [],
   "source": [
    "def fire_period_tC(df, n, end_i = True):\n",
    "    import numpy as np\n",
    "    ### Finding the start of fire\n",
    "    x_fire, fire_C = 9e10, np.nanmean(df[\"T\"][:n]) + 10 \n",
    "    start = n-9000\n",
    "    if n-9000< 0:\n",
    "        start = 0\n",
    "\n",
    "    for i in range(start, len(df[\"T\"])):\n",
    "        if df[\"T\"][i] > fire_C:\n",
    "            x_fire = i\n",
    "            break\n",
    "\n",
    "    if end_i == True:\n",
    "        x_end_fire = 9e10 \n",
    "        t_inv = list(df[\"T\"])[::-1]\n",
    "        for i in range(len(df[\"T\"])):\n",
    "            if t_inv[i] > fire_C:\n",
    "                x_end_fire = len(t_inv) - int(i)\n",
    "                break\n",
    "        return x_fire, x_end_fire"
   ]
  },
  {
   "cell_type": "code",
   "execution_count": 20,
   "metadata": {},
   "outputs": [
    {
     "data": {
      "text/plain": [
       "(52102, 61888)"
      ]
     },
     "execution_count": 20,
     "metadata": {},
     "output_type": "execute_result"
    }
   ],
   "source": [
    "files = text_finder(path)\n",
    "path = \"/Users/joeyp/Desktop/10X10_Truss_SERDP_Burns/JS_Cleaned_Data/Full-Timestamp/Burn-01\" #w10\n",
    "path_end = \"/sonics/\"\n",
    "sc_name_lst= [\"A1\",\"A2\", \"A3\", \"A4\", \"B1\", \"B2\", \"B3\", \"B4\", \\\n",
    "                 \"C1\", \"C2\", \"C3\", \"C4\", \"D1\", \"D2\", \"D3\", \"D4\"]\n",
    "p = path+path_end\n",
    "files = text_finder(path+path_end)\n",
    "df =file_to_df(p+files[0])\n",
    "fire_period_tC(df, burn_d[\"01\"][0])\n"
   ]
  },
  {
   "cell_type": "code",
   "execution_count": 13,
   "metadata": {},
   "outputs": [
    {
     "data": {
      "text/plain": [
       "21000"
      ]
     },
     "execution_count": 13,
     "metadata": {},
     "output_type": "execute_result"
    }
   ],
   "source": [
    "burn_d[\"01\"][0]"
   ]
  },
  {
   "cell_type": "code",
   "execution_count": 28,
   "metadata": {},
   "outputs": [
    {
     "data": {
      "text/plain": [
       "(4.99, 28.06)"
      ]
     },
     "execution_count": 28,
     "metadata": {},
     "output_type": "execute_result"
    },
    {
     "data": {
      "image/png": "[encoded data removed]",
      "text/plain": [
       "<Figure size 432x288 with 1 Axes>"
      ]
     },
     "metadata": {
      "needs_background": "light"
     },
     "output_type": "display_data"
    }
   ],
   "source": [
    "plt.plot(df[\"T\"])\n",
    "plt.vlines(52102,0,30)\n",
    "plt.vlines(61888,0,30)\n",
    "plt.xlim(21000)\n",
    "plt.ylim(min(df[\"T\"]),max(df[\"T\"]))\n",
    "\n",
    "\n",
    "temp_ax = plt.subplot(11,4,temp_sub[i])"
   ]
  },
  {
   "cell_type": "code",
   "execution_count": null,
   "metadata": {},
   "outputs": [],
   "source": [
    "def plotting(path,burn,seperator = \" \"):\n",
    "\n",
    "    txt_files=[]\n",
    "    all_files = os.listdir(path) #tells what directory the files are in\n",
    "    for i in all_files: #reading only the .txt files \n",
    "        if i[-4:] == \".txt\":\n",
    "            txt_files.append(i)\n",
    "    txt_files.sort() #alphabetizes them\n",
    "\n",
    "\n",
    "    temp_sub = [1,2,3,4,13,14,15,16,25,26,27,28,37,38,39,40]\n",
    "    wind_sub = [5,6,7,8,17,18,19,20,29,30,31,32,41,42,43,44]\n",
    "\n",
    "    blue_patch = mpatches.Patch(color='blue', label='U')\n",
    "    gree_patch = mpatches.Patch(color='green', label='V')\n",
    "    blac_patch = mpatches.Patch(color='k', label='W')\n",
    "    red_patch  = mpatches.Patch(color='red', label='Temperature')\n",
    "\n",
    "\n",
    "    plt.figure(figsize=(26,30))\n",
    "    for i in range(16):\n",
    "        df = pd.read_csv(path + txt_files[i],na_values = ['NAN',\"00nan\"], sep=seperator)\n",
    "        time_s = []\n",
    "        for t in range(len(df)):\n",
    "            time_s.append(round((float(df[\"Hr\"][t]))*3600+float(df[\"Min\"][t])*60 + float(df[\"Sec\"][t])\\\n",
    "                          -((float(df[\"Hr\"][0]))*3600+float(df[\"Min\"][0])*60 + float(df[\"Sec\"][0])),4))\n",
    "        \n",
    "        \n",
    "        temp_ax = plt.subplot(11,4,temp_sub[i])\n",
    "        temp_ax.set_title(txt_files[i][:2],fontsize = 20)\n",
    "        temp_ax.plot(time_s,df[\"T\"], c = \"r\", linewidth = .3)\n",
    "       \n",
    "        temp_ax.set_xlim(0,np.max(time_s[-1]))\n",
    "        temp_ax.tick_params(labelbottom=False,bottom=False,)\n",
    "        temp_ax.set_ylim(0, 80)\n",
    "        temp_ax.grid()\n",
    "        if (i+1)%4==0:\n",
    "            temp_ax.set_ylabel(r\"$^{\\circ}C$\",rotation=0, labelpad=10,fontsize= 20)\n",
    "            temp_ax.yaxis.set_label_position(\"right\")\n",
    "\n",
    "        wind_ax = plt.subplot(11,4,wind_sub[i])\n",
    "        wind_ax.plot(time_s, [float(i) for i in list(df[\"U\"])], c = \"b\", linewidth=.05)\n",
    "        wind_ax.plot(time_s, [float(i) for i in list(df[\"V\"])], c = \"g\", linewidth = .05)\n",
    "        wind_ax.plot(time_s, [float(i) for i in list(df[\"W\"])], c = \"k\", linewidth = .05)\n",
    "    \n",
    "        wind_ax.set_xlim(0,np.max(time_s[-1]))\n",
    "        wind_ax.set_ylim(-7.5,7.5)\n",
    "        wind_ax.grid()\n",
    "        #wind_ax.spines['top'].set_visible(False)\n",
    "\n",
    "        wind_ax.set_xlabel(\"time (s)\", fontsize = 18)\n",
    "\n",
    "        if (i+1)%4==0:\n",
    "            wind_ax.set_ylabel(r\"$\\frac{m}{s}$\",rotation=0, labelpad=10,fontsize= 25)\n",
    "            wind_ax.yaxis.set_label_position(\"right\")\n",
    "\n",
    "        if i%4 ==0:\n",
    "\n",
    "            plt.legend( handles=[red_patch,blue_patch,gree_patch,blac_patch],bbox_to_anchor=(3, -0.35), ncol=4, fontsize = \"xx-large\")\n",
    "            \n",
    "    plt.subplots_adjust(hspace=0.1,wspace=.1)\n",
    "    fmt =\"Burn {} ({:02d}-{:02d}-{})\"\n",
    "    plt.suptitle(fmt.format(burn,df[\"MM\"][0],df[\"DD\"][0],df[\"YYYY\"][0]), fontsize = 30,x=0.5, y=0.91)\n",
    "    \n",
    "    plt.savefig(\"Burn_\"+burn+\"_UVWT_Grid.png\",dpi=400)"
   ]
  }
 ],
 "metadata": {
  "kernelspec": {
   "display_name": "Python 3",
   "language": "python",
   "name": "python3"
  },
  "language_info": {
   "codemirror_mode": {
    "name": "ipython",
    "version": 3
   },
   "file_extension": ".py",
   "mimetype": "text/x-python",
   "name": "python",
   "nbconvert_exporter": "python",
   "pygments_lexer": "ipython3",
   "version": "3.8.3"
  }
 },
 "nbformat": 4,
 "nbformat_minor": 4
}
