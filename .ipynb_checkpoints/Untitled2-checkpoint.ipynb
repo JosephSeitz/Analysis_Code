{
 "cells": [
  {
   "cell_type": "code",
   "execution_count": null,
   "metadata": {},
   "outputs": [],
   "source": [
    "\"\"\"\n",
    "Burn 04: C1, C2\n",
    "Burn 05: B1-4, C1-4\n",
    "Burn 06: B1-4, C1-4\n",
    "Burn 11: B1, B2, B4, C1-4\n",
    "Burn 20: B2-4, C1-4\n",
    "Burn 21: B2, B3, C2, C4\n",
    "Burn 22: B2, C1, C2, C4\n",
    "Burn 23: B2, B3, C1, C2\n",
    "Burn 24: B2, C1, C2, C4\n",
    "Burn 25: B2, B3, C1, C2, C4\n",
    "Burn 26: B2, C1, C2, C4\n",
    "Burn 29: B2, C1, C2, C4\n",
    "Burn 30: B2, C1, C2, C4\n",
    "Burn 34: C1\n",
    "Burn 03: B1-3, C1-4\n",
    "Burn 09: C1, C2, C4\n",
    "Burn 28: B2\n",
    "Burn 33: B2, C3, C4\n",
    "Burn 01: B3, C3\n",
    "Burn 02: B1-4, C1-4\n",
    "Burn 13: B1, B2, B4, C1, C2, C4\n",
    "Burn 27: B2 C1, C2, C4\n",
    "\"\"\""
   ]
  }
 ],
 "metadata": {
  "kernelspec": {
   "display_name": "Python 3",
   "language": "python",
   "name": "python3"
  },
  "language_info": {
   "codemirror_mode": {
    "name": "ipython",
    "version": 3
   },
   "file_extension": ".py",
   "mimetype": "text/x-python",
   "name": "python",
   "nbconvert_exporter": "python",
   "pygments_lexer": "ipython3",
   "version": "3.7.4"
  }
 },
 "nbformat": 4,
 "nbformat_minor": 4
}
