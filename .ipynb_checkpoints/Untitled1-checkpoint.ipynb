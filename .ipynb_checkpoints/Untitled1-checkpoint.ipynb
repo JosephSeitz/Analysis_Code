{
 "cells": [
  {
   "cell_type": "code",
   "execution_count": 1,
   "metadata": {},
   "outputs": [],
   "source": [
    "import scipy as sc\n",
    "from scipy import signal\n",
    "import os   #used for directory work\n",
    "import matplotlib.pyplot as plt #used for creating plots\n",
    "import pandas as pd\n",
    "import numpy as np\n",
    "%matplotlib inline"
   ]
  },
  {
   "cell_type": "code",
   "execution_count": 2,
   "metadata": {},
   "outputs": [],
   "source": [
    "burn_d = {'01': [21000 ,22289], '02': [14000, 14972], '03': [20000, 20296], '04': [30000, 34979], '05': [15000, 15974], \\\n",
    "          '06': [6000, 6544], '07': [25000, 27822], '08': [18000, 19810], '09': [20000, 25047], '11': [30000,30681],  \\\n",
    "          '12': [60000, 62937], '13': [50000, 55131], '18': [185000, 192322], '19': [45000, 48831], '20': [24000, 25860],\\\n",
    "          '21': [25000, 27822], '22': [27000, 29484], '23': [45000, 48846], '24': [20000, 23015], '25': [25000, 26797], \\\n",
    "          '26': [25000, 26909], '27': [35000, 36916], '28': [27000, 28673], '29': [25000, 28166], '30': [12000, 13954], \\\n",
    "          '31': [30000, 31046], '32': [25000, 26294], '33': [20000, 23293], '34': [40000,43702]}"
   ]
  },
  {
   "cell_type": "code",
   "execution_count": 3,
   "metadata": {},
   "outputs": [],
   "source": [
    "def text_finder(path):\n",
    "    txt_files=[]\n",
    "    all_files = os.listdir(path) #tells what directory the files are in\n",
    "    for i in all_files: #reading only the .txt files \n",
    "        if i[-4:] == \".txt\":\n",
    "            txt_files.append(i)\n",
    "    txt_files.sort() #alphabetizes them\n",
    "    \n",
    "    return txt_files\n",
    "\n",
    "def file_to_df(path):\n",
    "    df= pd.read_csv(path,na_values = ['NAN', \"00nan\"], sep=\" \")\n",
    "    \n",
    "    return df"
   ]
  },
  {
   "cell_type": "code",
   "execution_count": 4,
   "metadata": {},
   "outputs": [],
   "source": [
    "#path = \"/home/JoeySeitz/10X10_Truss_SERDP_Burns/JS_Cleaned_Data/Burn-\"\n",
    "#path=\"/home/joey/Desktop/10X10_Truss_SERDP_Burns/JS_Cleaned_Data/Full-Timestamp/Burn-\"#79\n",
    "path = \"/Users/joeyp/Desktop/10X10_Truss_SERDP_Burns/JS_Cleaned_Data/Full-Timestamp/Burn-\" #w10\n",
    "path_end = \"/sonics/\"\n",
    "p = path+\"01\"+ path_end\n",
    "files = text_finder(p)\n",
    "df_a1= file_to_df(p+files[0])"
   ]
  },
  {
   "cell_type": "code",
   "execution_count": 5,
   "metadata": {},
   "outputs": [],
   "source": [
    "W_list_pre = np.array(df_a1[\"W\"][22289-9000:22289])\n",
    "W_list_brn = np.array(df_a1[\"W\"][22289:22289+9000])\n",
    "W_list_pst = np.array(df_a1[\"W\"][22289+9000:22289+18000])"
   ]
  },
  {
   "cell_type": "code",
   "execution_count": null,
   "metadata": {},
   "outputs": [],
   "source": []
  },
  {
   "cell_type": "code",
   "execution_count": 6,
   "metadata": {},
   "outputs": [],
   "source": [
    "#w_spec_wel_pre = sc.signal.spectrogram(W_list_pre)\n",
    "w_spec_wel_pre, x_pre = signal.welch(W_list_pre, 1)\n",
    "w_spec_wel_brn, x_brn = signal.welch(W_list_brn, 1)\n",
    "w_spec_wel_pst, x_pst = signal.welch(W_list_pst, 1)"
   ]
  },
  {
   "cell_type": "code",
   "execution_count": 9,
   "metadata": {},
   "outputs": [
    {
     "data": {
      "image/png": "[encoded data removed]",
      "text/plain": [
       "<Figure size 432x288 with 1 Axes>"
      ]
     },
     "metadata": {
      "needs_background": "light"
     },
     "output_type": "display_data"
    }
   ],
   "source": [
    "plt.semilogy(w_spec_wel_pre,x_pre, color = \"r\")\n",
    "plt.semilogy(w_spec_wel_brn,x_brn, color = \"g\")\n",
    "plt.semilogy(w_spec_wel_pst,x_pst, color = \"b\")\n",
    "plt.xscale(\"log\")\n",
    "plt.xlim(10**(-3),10)\n",
    "plt.show()"
   ]
  },
  {
   "cell_type": "code",
   "execution_count": null,
   "metadata": {},
   "outputs": [],
   "source": []
  }
 ],
 "metadata": {
  "kernelspec": {
   "display_name": "Python 3",
   "language": "python",
   "name": "python3"
  },
  "language_info": {
   "codemirror_mode": {
    "name": "ipython",
    "version": 3
   },
   "file_extension": ".py",
   "mimetype": "text/x-python",
   "name": "python",
   "nbconvert_exporter": "python",
   "pygments_lexer": "ipython3",
   "version": "3.7.4"
  }
 },
 "nbformat": 4,
 "nbformat_minor": 4
}
