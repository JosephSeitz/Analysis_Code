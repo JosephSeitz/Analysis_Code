{
 "cells": [
  {
   "cell_type": "code",
   "execution_count": 1,
   "metadata": {},
   "outputs": [],
   "source": [
    "import scipy as sc\n",
    "from scipy import signal\n",
    "import os   #used for directory work\n",
    "import matplotlib.pyplot as plt #used for creating plots\n",
    "import pandas as pd\n",
    "import numpy as np\n",
    "import matplotlib.patches as mpatches #used for plot legends\n",
    "%matplotlib inline\n",
    "from commonly_used_functions import text_finder, burn_dict,\\\n",
    "    file_to_df, fire_period, lin_rb, fast_fourier_spectra\n",
    "burn_d = burn_dict()"
   ]
  },
  {
   "cell_type": "code",
   "execution_count": 2,
   "metadata": {},
   "outputs": [
    {
     "data": {
      "text/plain": [
       "{'01': [21000, 22289],\n",
       " '02': [14000, 14972],\n",
       " '03': [20000, 20296],\n",
       " '04': [30000, 34979],\n",
       " '05': [15000, 15974],\n",
       " '06': [6000, 6544],\n",
       " '07': [25000, 27822],\n",
       " '08': [18000, 19810],\n",
       " '09': [20000, 25047],\n",
       " '11': [30000, 30681],\n",
       " '12': [60000, 62937],\n",
       " '13': [50000, 55131],\n",
       " '18': [185000, 192322],\n",
       " '19': [45000, 48831],\n",
       " '20': [24000, 25860],\n",
       " '21': [25000, 27822],\n",
       " '22': [27000, 29484],\n",
       " '23': [45000, 48846],\n",
       " '24': [20000, 23015],\n",
       " '25': [25000, 26797],\n",
       " '26': [25000, 26909],\n",
       " '27': [35000, 36916],\n",
       " '28': [27000, 28673],\n",
       " '29': [25000, 28166],\n",
       " '30': [12000, 13954],\n",
       " '31': [30000, 31046],\n",
       " '32': [25000, 26294],\n",
       " '33': [20000, 23293],\n",
       " '34': [40000, 43702]}"
      ]
     },
     "execution_count": 2,
     "metadata": {},
     "output_type": "execute_result"
    }
   ],
   "source": [
    "burn_d"
   ]
  },
  {
   "cell_type": "code",
   "execution_count": 3,
   "metadata": {},
   "outputs": [
    {
     "name": "stderr",
     "output_type": "stream",
     "text": [
      "C:\\Users\\joeyp\\anaconda3\\lib\\site-packages\\ipykernel_launcher.py:18: RuntimeWarning: Mean of empty slice\n",
      "C:\\Users\\joeyp\\anaconda3\\lib\\site-packages\\ipykernel_launcher.py:19: RuntimeWarning: Mean of empty slice\n",
      "C:\\Users\\joeyp\\anaconda3\\lib\\site-packages\\ipykernel_launcher.py:20: RuntimeWarning: Mean of empty slice\n",
      "C:\\Users\\joeyp\\anaconda3\\lib\\site-packages\\ipykernel_launcher.py:27: RuntimeWarning: Mean of empty slice\n",
      "C:\\Users\\joeyp\\anaconda3\\lib\\site-packages\\ipykernel_launcher.py:28: RuntimeWarning: Mean of empty slice\n",
      "C:\\Users\\joeyp\\anaconda3\\lib\\site-packages\\ipykernel_launcher.py:29: RuntimeWarning: Mean of empty slice\n"
     ]
    }
   ],
   "source": [
    "path = \"/Users/joeyp/Desktop/10X10_Truss_SERDP_Burns/JS_Cleaned_Data/Full-Timestamp/Burn-\" #w10\n",
    "path_end = \"/sonics/\"\n",
    "sc_name_lst= [\"A1\",\"A2\", \"A3\", \"A4\", \"B1\", \"B2\", \"B3\", \"B4\", \\\n",
    "                 \"C1\", \"C2\", \"C3\", \"C4\", \"D1\", \"D2\", \"D3\", \"D4\"]\n",
    "df_pre_averages_eye = pd.DataFrame(columns=[\"SNC\", \"U_ave\", \"V_ave\", \"W_ave\", \"T_ave\"])\n",
    "df_pre_averages_first_sonc = pd.DataFrame(columns=[\"SNC\", \"U_ave\", \"V_ave\", \"W_ave\", \"T_ave\"])\n",
    "for brn in range(len(list(burn_d.keys()))):\n",
    "        burn = list(burn_d.keys())[brn]\n",
    "        p = path+burn+ path_end\n",
    "        files = text_finder(p)\n",
    "        for i in range(16):\n",
    "            df = file_to_df(p+files[i])\n",
    "            start, end = burn_d[burn][0]-9000, burn_d[burn][0]\n",
    "            if start<0:\n",
    "                start = 0\n",
    "            \n",
    "            df_pre_averages_eye = df_pre_averages_eye.append({\"SNC\":\"B01A1\",\\\n",
    "                \"U_ave\":np.nanmean(df[\"U\"][start:end]),\"V_ave\":np.nanmean(df[\"V\"][start:end]),\\\n",
    "                \"W_ave\":np.nanmean(df[\"W\"][start:end]), \\\n",
    "                \"T_ave\":np.nanmean(df[\"T\"][start:end])}, ignore_index= True)\n",
    "            \n",
    "            start, end = burn_d[burn][1]-(3000+9000), burn_d[burn][1]-3000\n",
    "            if start<0:\n",
    "                start = 0\n",
    "            \n",
    "            df_pre_averages_first_sonc = df_pre_averages_first_sonc.append({\"SNC\":\"B01A1\",\\\n",
    "                \"U_ave\":np.nanmean(df[\"U\"][start:end]),\"V_ave\":np.nanmean(df[\"V\"][start:end]),\\\n",
    "                \"W_ave\":np.nanmean(df[\"W\"][start:end]), \\\n",
    "                \"T_ave\":np.nanmean(df[\"T\"][start:end])}, ignore_index= True)\n",
    "            \n",
    "            "
   ]
  },
  {
   "cell_type": "code",
   "execution_count": 4,
   "metadata": {
    "scrolled": false
   },
   "outputs": [
    {
     "name": "stdout",
     "output_type": "stream",
     "text": [
      "All burns Pre-Burn averages 'visual time' (15min ave):\n",
      "            U_ave       V_ave       W_ave       T_ave\n",
      "count  435.000000  435.000000  435.000000  435.000000\n",
      "mean     0.548523    0.095462   -0.007782   19.658104\n",
      "std      0.571149    0.447310    0.056294    7.813450\n",
      "min     -1.073436   -0.848881   -0.265254    2.302692\n",
      "25%      0.194572   -0.248897   -0.043418   17.958787\n",
      "50%      0.554541    0.029449   -0.006797   21.049269\n",
      "75%      0.970363    0.384736    0.030483   24.004858\n",
      "max      1.736043    1.466703    0.123970   32.727329\n",
      "\n",
      "All burns Pre-Burn averages 5 mins before first 5sig sonic (15min ave):\n",
      "            U_ave       V_ave       W_ave       T_ave\n",
      "count  435.000000  435.000000  435.000000  435.000000\n",
      "mean     0.540141    0.092059   -0.007093   19.675759\n",
      "std      0.559244    0.432161    0.055470    7.818896\n",
      "min     -1.069083   -0.909336   -0.273476    2.365789\n",
      "25%      0.144143   -0.220863   -0.043173   18.038052\n",
      "50%      0.598816    0.017030   -0.005068   21.046579\n",
      "75%      0.988430    0.417721    0.031002   24.026007\n",
      "max      1.605070    1.383046    0.120513   32.760890\n"
     ]
    }
   ],
   "source": [
    "print(\"All burns Pre-Burn averages 'visual time' (15min ave):\")\n",
    "print(df_pre_averages_eye.describe())\n",
    "print()\n",
    "print(\"All burns Pre-Burn averages 5 mins before first 5sig sonic (15min ave):\")\n",
    "print(df_pre_averages_first_sonc.describe())\n"
   ]
  },
  {
   "cell_type": "code",
   "execution_count": 5,
   "metadata": {},
   "outputs": [
    {
     "ename": "NameError",
     "evalue": "name 'box_01' is not defined",
     "output_type": "error",
     "traceback": [
      "\u001b[1;31m---------------------------------------------------------------------------\u001b[0m",
      "\u001b[1;31mNameError\u001b[0m                                 Traceback (most recent call last)",
      "\u001b[1;32m<ipython-input-5-78104a0ac8e5>\u001b[0m in \u001b[0;36m<module>\u001b[1;34m\u001b[0m\n\u001b[0;32m      1\u001b[0m \u001b[0mdf_pre_averages_eye\u001b[0m\u001b[1;33m.\u001b[0m\u001b[0mboxplot\u001b[0m\u001b[1;33m(\u001b[0m\u001b[1;33m)\u001b[0m\u001b[1;33m\u001b[0m\u001b[1;33m\u001b[0m\u001b[0m\n\u001b[0;32m      2\u001b[0m \u001b[0mdf_pre_averages_first_sonc\u001b[0m\u001b[1;33m.\u001b[0m\u001b[0mboxplot\u001b[0m\u001b[1;33m(\u001b[0m\u001b[1;33m)\u001b[0m\u001b[1;33m\u001b[0m\u001b[1;33m\u001b[0m\u001b[0m\n\u001b[1;32m----> 3\u001b[1;33m \u001b[0mprint\u001b[0m\u001b[1;33m(\u001b[0m\u001b[0mbox_01\u001b[0m\u001b[1;33m)\u001b[0m\u001b[1;33m\u001b[0m\u001b[1;33m\u001b[0m\u001b[0m\n\u001b[0m",
      "\u001b[1;31mNameError\u001b[0m: name 'box_01' is not defined"
     ]
    },
    {
     "data": {
      "image/png": "[encoded data removed]",
      "text/plain": [
       "<Figure size 432x288 with 1 Axes>"
      ]
     },
     "metadata": {
      "needs_background": "light"
     },
     "output_type": "display_data"
    }
   ],
   "source": [
    "df_pre_averages_eye.boxplot()\n",
    "df_pre_averages_first_sonc.boxplot()\n",
    "print(box_01)"
   ]
  },
  {
   "cell_type": "code",
   "execution_count": null,
   "metadata": {
    "scrolled": false
   },
   "outputs": [],
   "source": [
    "df_pre_averages_first_sonc.boxplot(column = [\"U_ave\",\"V_ave\",\"W_ave\"])\n",
    "df_pre_averages_first_sonc.boxplot(column = [\"U_ave\",\"V_ave\",\"W_ave\"])\n",
    "#plt.show()"
   ]
  },
  {
   "cell_type": "code",
   "execution_count": null,
   "metadata": {},
   "outputs": [],
   "source": [
    "pd.boxplot([box1,box2])"
   ]
  },
  {
   "cell_type": "code",
   "execution_count": 38,
   "metadata": {
    "scrolled": false
   },
   "outputs": [
    {
     "data": {
      "image/png": "[encoded data removed]",
      "text/plain": [
       "<Figure size 720x432 with 3 Axes>"
      ]
     },
     "metadata": {
      "needs_background": "light"
     },
     "output_type": "display_data"
    }
   ],
   "source": [
    "plt_lst, columns = [], [\"U_ave\",\"V_ave\",\"W_ave\"]\n",
    "for i in range(3):\n",
    "    data_01 = [x for x in list(df_pre_averages_eye[columns[i]]) if str(x) != 'nan']\n",
    "    data_02 = [x for x in list(df_pre_averages_first_sonc[columns[i]]) if str(x) != 'nan']\n",
    "    plt_lst.append(data_01)\n",
    "    plt_lst.append(data_02)\n",
    "#fig = plt.figure(figsize =(6, 4)) \n",
    "fig, axs = plt.subplots(nrows=1,ncols=3,figsize=(10,6))#,sharey = True)\n",
    "# Creating axes instance \n",
    "#ax = fig.add_axes([0, 0, 1, 1]) \n",
    "  \n",
    "# Creating plot \n",
    "ax1 = axs[0]\n",
    "ax1.boxplot(plt_lst[:4]) \n",
    "ax1.set_xticklabels([r\"$\\overline{U}_{eye}$\",r\"$\\overline{U}_{snc}$\",\\\n",
    "                     r\"$\\overline{V}_{eye}$\",r\"$\\overline{V}_{snc}$\"])\n",
    "ax1.set_title(\"Horizontal Winds\")\n",
    "\n",
    "ax2 = axs[1]\n",
    "ax2.boxplot(plt_lst[4:])\n",
    "ax2.set_title(\"Vertical Winds\")\n",
    "ax2.set_xticklabels([r\"$\\overline{W}_{eye}$\",r\"$\\overline{W}_{snc}$\"])\n",
    "\n",
    "ax3 = axs[2]\n",
    "t_1 = [x for x in list(df_pre_averages_eye[\"T_ave\"]) if str(x) != 'nan']\n",
    "t_2 = [x for x in list(df_pre_averages_first_sonc[\"T_ave\"]) if str(x) != 'nan']\n",
    "ax3.set_xticklabels([r\"$\\overline{T}_{eye}$\",r\"$\\overline{T}_{snc}$\"])\n",
    "ax3.boxplot([t_1,t_2])\n",
    "ax3.set_title(\"Temperature\")\n",
    "#plt.savefig(\"Comparing_averages\")\n"
   ]
  },
  {
   "cell_type": "code",
   "execution_count": null,
   "metadata": {},
   "outputs": [],
   "source": [
    "eye_vs_snc = []\n",
    "for brn in range(len(list(burn_d.keys()))):\n",
    "        burn = list(burn_d.keys())[brn]\n",
    "        eye_vs_snc.append(burn_d[burn][1]-burn_d[burn][0])\n",
    "print(np.average(eye_vs_snc))"
   ]
  },
  {
   "cell_type": "code",
   "execution_count": null,
   "metadata": {},
   "outputs": [],
   "source": [
    "print(min(eye_vs_snc),max(eye_vs_snc))"
   ]
  },
  {
   "cell_type": "code",
   "execution_count": null,
   "metadata": {},
   "outputs": [],
   "source": [
    "#import pandas as pd\n",
    "#import numpy as np\n",
    "#from matplotlib pyplot as plt\n",
    "import seaborn as sns\n",
    "\n",
    "#data1 = pd.DataFrame(np.random.rand(17,3), columns=['A','B','C']).assign(Location=1)\n",
    "#data2 = pd.DataFrame(np.random.rand(17,3)+0.2, columns=['A','B','C']).assign(Location=2)\n",
    "#data3 = pd.DataFrame(np.random.rand(17,3)+0.4, columns=['A','B','C']).assign(Location=3)\n",
    "\n",
    "cdf = pd.concat([df_pre_averages_eye, df_pre_averages_first_sonc])    \n",
    "#mdf = pd.melt(cdf, id_vars=['Location'], var_name=['Letter'])\n",
    "#print(mdf.head())\n",
    "\n",
    "#    Location Letter     value\n",
    "# 0         1      A  0.223565\n",
    "# 1         1      A  0.515797\n",
    "# 2         1      A  0.377588\n",
    "# 3         1      A  0.687614\n",
    "# 4         1      A  0.094116\n",
    "\n",
    "ax = sns.boxplot(x=\"SNC\", y=\"U_ave\", data=cdf)    \n",
    "plt.show()"
   ]
  },
  {
   "cell_type": "code",
   "execution_count": null,
   "metadata": {},
   "outputs": [],
   "source": []
  }
 ],
 "metadata": {
  "kernelspec": {
   "display_name": "Python 3",
   "language": "python",
   "name": "python3"
  },
  "language_info": {
   "codemirror_mode": {
    "name": "ipython",
    "version": 3
   },
   "file_extension": ".py",
   "mimetype": "text/x-python",
   "name": "python",
   "nbconvert_exporter": "python",
   "pygments_lexer": "ipython3",
   "version": "3.7.6"
  }
 },
 "nbformat": 4,
 "nbformat_minor": 4
}
