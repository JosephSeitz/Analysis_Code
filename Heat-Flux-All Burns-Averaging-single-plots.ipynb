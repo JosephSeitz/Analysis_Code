{
 "cells": [
  {
   "cell_type": "code",
   "execution_count": 1,
   "metadata": {},
   "outputs": [],
   "source": [
    "import os   #used for directory work\n",
    "import matplotlib.patches as mpatches #used for plot legends\n",
    "import matplotlib.pyplot as plt #used for creating plots\n",
    "import matplotlib.cm as cm\n",
    "import pandas as pd\n",
    "import numpy as np\n",
    "from scipy import stats\n",
    "\n",
    "%matplotlib inline\n"
   ]
  },
  {
   "cell_type": "code",
   "execution_count": 2,
   "metadata": {},
   "outputs": [],
   "source": [
    "def text_finder(path):\n",
    "    txt_files=[]\n",
    "    all_files = os.listdir(path) #tells what directory the files are in\n",
    "    for i in all_files: #reading only the .txt files \n",
    "        if i[-4:] == \".txt\":\n",
    "            txt_files.append(i)\n",
    "    txt_files.sort() #alphabetizes them\n",
    "    \n",
    "    return txt_files"
   ]
  },
  {
   "cell_type": "code",
   "execution_count": 3,
   "metadata": {},
   "outputs": [],
   "source": [
    "def file_to_df(path):\n",
    "    df_raw = pd.read_csv(path,na_values = ['NAN', \"00nan\"], sep=\" \")\n",
    "    \n",
    "    #timestamp_lst = []\n",
    "    timestamp_lst = list(np.full(len(df_raw),np.nan))\n",
    "    for t in range(len(df_raw)):\n",
    "        timestamp_lst[t] = pd.Timestamp(str(df_raw[\"YYYY\"][t])+\"-\"+str(df_raw[\"MM\"][t])+\"-\"+str(df_raw[\"DD\"][t]) +\" \"+str(df_raw[\"Hr\"][t])+\":\"+str(df_raw[\"Min\"][t])+\":\"+str(df_raw[\"Sec\"][t]),freq = \".1S\")\n",
    "    \n",
    "    df = pd.DataFrame()\n",
    "    df[\"Timestamp\"] = timestamp_lst\n",
    "    df[\"U\"] = df_raw[\"U\"]\n",
    "    df[\"W\"]=df_raw[\"W\"]\n",
    "    df[\"T\"]=df_raw[\"T\"]\n",
    "    \n",
    "    return df\n",
    "\n",
    "def Calculations(df_raw, n):\n",
    "    \n",
    "    df_working = pd.DataFrame()\n",
    "    df_working[\"Timestamp\"] = df_raw[\"Timestamp\"]\n",
    "    df_working[\"W\"]=df_raw[\"W\"]\n",
    "    df_working[\"T\"]=df_raw[\"T\"]\n",
    "\n",
    "    #### Calculating the W', T' averages\n",
    "\n",
    "    W_average = np.mean(df_raw[\"W\"][:n])\n",
    "    T_average = np.mean(df_raw[\"T\"][:n])\n",
    "\n",
    "    W_prime, T_prime= list(np.full(len(df_raw),np.nan)),list(np.full(len(df_raw),np.nan))\n",
    "    for i in range(len(df_raw)):\n",
    "        W_prime[i] = df_raw[\"W\"][i]-W_average\n",
    "        T_prime[i] = df_raw[\"T\"][i]-T_average\n",
    "    \n",
    "    ## W'T' \n",
    "    wt = list(np.full(len(W_prime),np.nan))\n",
    "    for i in range(len(W_prime)):\n",
    "        wt[i] = (W_prime[i]*T_prime[i])\n",
    "    \n",
    "    ### Making the Quad list for all the points\n",
    "    quad = list(np.full(len(df_working),0)) \n",
    "    for i in range(len(df_working)):\n",
    "        #quad_mag.append(abs(W_prime[i]*T_prime[i]))\n",
    "        if float(W_prime[i]) > 0 and float(T_prime[i]) > 0:\n",
    "            quad[i] = 1\n",
    "            continue\n",
    "        if float(W_prime[i]) > 0 and float(T_prime[i]) < 0:\n",
    "            quad[i] = 2\n",
    "            continue\n",
    "        if float(W_prime[i]) < 0 and float(T_prime[i]) < 0:\n",
    "            quad[i] = 3\n",
    "            continue\n",
    "        if float(W_prime[i]) < 0 and float(T_prime[i]) > 0:\n",
    "            quad[i] = 4\n",
    "            continue\n",
    "\n",
    "\n",
    "\n",
    "    df_working[\"Quad\"] = quad\n",
    "    #df_working[\"Quad_Mag\"] = quad_mag\n",
    "    df_working[\"T'W'\"] = wt\n",
    "    df_working = df_working.set_index(\"Timestamp\")\n",
    "\n",
    "    pre_quad_list = list(quad[:n])\n",
    "\n",
    "    pre_Q1, pre_Q2 = pre_quad_list.count(1), pre_quad_list.count(2)\n",
    "    pre_Q3, pre_Q4 = pre_quad_list.count(3), pre_quad_list.count(4)\n",
    "    pre_nan = pre_quad_list.count(0)\n",
    "    \n",
    "    pre_sum = pre_Q1 + pre_Q2 + pre_Q3 + pre_Q4\n",
    "    if pre_sum != 0: \n",
    "        pre_Qlst = [pre_Q1/pre_sum, pre_Q2/pre_sum, pre_Q3/pre_sum, pre_Q4/pre_sum]\n",
    "    if pre_sum == 0:\n",
    "        pre_Qlst = [0, 0, 0, 0]\n",
    "    \n",
    "    #Calculate the average W'T' for pre \n",
    "    pre_wt_prime_ave = np.nanmean(wt[:n])\n",
    "    \n",
    "    \n",
    "    x_fire, fire_5sig = 9e10, np.mean(df_working[\"T\"])+5*np.std(df_working[\"T\"]) \n",
    "    for i in range(len(df_working[\"T\"])):\n",
    "        if df_working[\"T\"][i] > fire_5sig:\n",
    "            x_fire = i\n",
    "            break\n",
    "            \n",
    "    return pre_Qlst, pre_wt_prime_ave, df_working, x_fire\n",
    "    \n",
    "def burn_calculations(df_working, x_fire):\n",
    "    wt = list(df_working[\"T'W'\"])\n",
    "    brn_wt_prime_ave = np.nanmean(wt[x_fire:])\n",
    "    \n",
    "    brn_n = len(wt[x_fire:])\n",
    "    brn_quad_list=list(df_working[\"Quad\"][x_fire:])\n",
    "    brn_Q1, brn_Q2 =brn_quad_list.count(1), brn_quad_list.count(2)\n",
    "    brn_Q3, brn_Q4 =brn_quad_list.count(3), brn_quad_list.count(4)\n",
    "\n",
    "    brn_sum = brn_Q1+ brn_Q2+ brn_Q3 + brn_Q4\n",
    "    if brn_sum !=0:\n",
    "        brn_Qlst = [brn_Q1/brn_sum, brn_Q2/brn_sum, brn_Q3/brn_sum, brn_Q4/brn_sum]\n",
    "    if brn_sum == 0:\n",
    "        brn_Qlst = [0, 0, 0, 0]\n",
    "        \n",
    "    return brn_Qlst, brn_wt_prime_ave,brn_n\n"
   ]
  },
  {
   "cell_type": "code",
   "execution_count": 4,
   "metadata": {},
   "outputs": [],
   "source": [
    "#df_raw  = pd.read_csv(path + txt_files[i],na_values = ['NAN', \"00nan\"], sep=\" \")\n",
    "#pre_Qlst,brn_Qlst, pre_wt_prime_ave, brn_wt_prime_ave, x_fire,brn_n= Calculation(df_raw, n)"
   ]
  },
  {
   "cell_type": "code",
   "execution_count": 5,
   "metadata": {},
   "outputs": [],
   "source": [
    "#df_raw  = pd.read_csv(path + txt_files[i],na_values = ['NAN', \"00nan\"], sep=\"\\t\")\n",
    "#pre_Qlst,brn_Qlst, pre_wt_prime_ave, brn_wt_prime_ave, x_fire,brn_n= Calculation(df_raw, 30000)\n",
    "\n",
    "###### Variables needed\n",
    "## pre_Qlst, brn_Qlst, pre_wt_prime_ave, brn_wt_prime_ave, x_fire,brn_n\n",
    "\n",
    "def burn_averages(path, n):\n",
    "    txt_files = text_finder(path)\n",
    "    \n",
    "    df_sonics_list =[]\n",
    "    pre_burn_Q_lst, burn_Q_lst= [], []\n",
    "    pre_WT_ave, brn_WT_ave = [],[]\n",
    "    x_fire_lst, brn_n_lst= [], []\n",
    "    for i in range(16):\n",
    "        df_raw  = file_to_df(path + txt_files[i])\n",
    "        pre_Qlst, pre_wt_prime_ave, df_working, x_fire = Calculations(df_raw, n)\n",
    "        \n",
    "        df_sonics_list.append(df_working)\n",
    "        pre_burn_Q_lst.append(pre_Qlst)\n",
    "        pre_WT_ave.append(pre_wt_prime_ave)\n",
    "        x_fire_lst.append(x_fire)\n",
    "        \n",
    "    n_fire = min(x_fire_lst)\n",
    "    for i in range(16):\n",
    "        \n",
    "        brn_Qlst, brn_wt_prime_ave, brn_n = burn_calculations(df_sonics_list[i], n_fire)\n",
    "        brn_WT_ave.append(brn_wt_prime_ave)\n",
    "        burn_Q_lst.append(brn_Qlst)\n",
    "        brn_n_lst.append(brn_n)\n",
    "    \n",
    "    \n",
    "    brn_len_min = []\n",
    "    for i in range(len(brn_n_lst)):\n",
    "        brn_len_min.append(brn_n_lst[i]/(600))\n",
    "    \n",
    "    #axs2_ytic_loc = np.arange(round(np.min(brn_len_min),0),round(np.max(brn_len_min)+.5,0),1)\n",
    "    \n",
    "    return pre_burn_Q_lst, burn_Q_lst,  pre_WT_ave, brn_WT_ave, x_fire_lst, brn_n_lst,  brn_len_min\n",
    "    "
   ]
  },
  {
   "cell_type": "code",
   "execution_count": 94,
   "metadata": {
    "scrolled": true
   },
   "outputs": [
    {
     "ename": "KeyboardInterrupt",
     "evalue": "",
     "output_type": "error",
     "traceback": [
      "\u001b[1;31m---------------------------------------------------------------------------\u001b[0m",
      "\u001b[1;31mKeyboardInterrupt\u001b[0m                         Traceback (most recent call last)",
      "\u001b[1;32m<timed exec>\u001b[0m in \u001b[0;36m<module>\u001b[1;34m\u001b[0m\n",
      "\u001b[1;32m<ipython-input-93-eba1edca1b9a>\u001b[0m in \u001b[0;36mburn_averages\u001b[1;34m(path, n)\u001b[0m\n\u001b[0;32m     13\u001b[0m     \u001b[0mx_fire_lst\u001b[0m\u001b[1;33m,\u001b[0m \u001b[0mbrn_n_lst\u001b[0m\u001b[1;33m=\u001b[0m \u001b[1;33m[\u001b[0m\u001b[1;33m]\u001b[0m\u001b[1;33m,\u001b[0m \u001b[1;33m[\u001b[0m\u001b[1;33m]\u001b[0m\u001b[1;33m\u001b[0m\u001b[1;33m\u001b[0m\u001b[0m\n\u001b[0;32m     14\u001b[0m     \u001b[1;32mfor\u001b[0m \u001b[0mi\u001b[0m \u001b[1;32min\u001b[0m \u001b[0mrange\u001b[0m\u001b[1;33m(\u001b[0m\u001b[1;36m16\u001b[0m\u001b[1;33m)\u001b[0m\u001b[1;33m:\u001b[0m\u001b[1;33m\u001b[0m\u001b[1;33m\u001b[0m\u001b[0m\n\u001b[1;32m---> 15\u001b[1;33m         \u001b[0mdf_raw\u001b[0m  \u001b[1;33m=\u001b[0m \u001b[0mfile_to_df\u001b[0m\u001b[1;33m(\u001b[0m\u001b[0mpath\u001b[0m \u001b[1;33m+\u001b[0m \u001b[0mtxt_files\u001b[0m\u001b[1;33m[\u001b[0m\u001b[0mi\u001b[0m\u001b[1;33m]\u001b[0m\u001b[1;33m)\u001b[0m\u001b[1;33m\u001b[0m\u001b[1;33m\u001b[0m\u001b[0m\n\u001b[0m\u001b[0;32m     16\u001b[0m         \u001b[0mpre_Qlst\u001b[0m\u001b[1;33m,\u001b[0m \u001b[0mpre_wt_prime_ave\u001b[0m\u001b[1;33m,\u001b[0m \u001b[0mdf_working\u001b[0m\u001b[1;33m,\u001b[0m \u001b[0mx_fire\u001b[0m \u001b[1;33m=\u001b[0m \u001b[0mCalculations\u001b[0m\u001b[1;33m(\u001b[0m\u001b[0mdf_raw\u001b[0m\u001b[1;33m,\u001b[0m \u001b[0mn\u001b[0m\u001b[1;33m)\u001b[0m\u001b[1;33m\u001b[0m\u001b[1;33m\u001b[0m\u001b[0m\n\u001b[0;32m     17\u001b[0m \u001b[1;33m\u001b[0m\u001b[0m\n",
      "\u001b[1;32m<ipython-input-91-7fbb7b0587a3>\u001b[0m in \u001b[0;36mfile_to_df\u001b[1;34m(path)\u001b[0m\n\u001b[0;32m      5\u001b[0m     \u001b[0mtimestamp_lst\u001b[0m \u001b[1;33m=\u001b[0m \u001b[0mlist\u001b[0m\u001b[1;33m(\u001b[0m\u001b[0mnp\u001b[0m\u001b[1;33m.\u001b[0m\u001b[0mfull\u001b[0m\u001b[1;33m(\u001b[0m\u001b[0mlen\u001b[0m\u001b[1;33m(\u001b[0m\u001b[0mdf_raw\u001b[0m\u001b[1;33m)\u001b[0m\u001b[1;33m,\u001b[0m\u001b[0mnp\u001b[0m\u001b[1;33m.\u001b[0m\u001b[0mnan\u001b[0m\u001b[1;33m)\u001b[0m\u001b[1;33m)\u001b[0m\u001b[1;33m\u001b[0m\u001b[1;33m\u001b[0m\u001b[0m\n\u001b[0;32m      6\u001b[0m     \u001b[1;32mfor\u001b[0m \u001b[0mt\u001b[0m \u001b[1;32min\u001b[0m \u001b[0mrange\u001b[0m\u001b[1;33m(\u001b[0m\u001b[0mlen\u001b[0m\u001b[1;33m(\u001b[0m\u001b[0mdf_raw\u001b[0m\u001b[1;33m)\u001b[0m\u001b[1;33m)\u001b[0m\u001b[1;33m:\u001b[0m\u001b[1;33m\u001b[0m\u001b[1;33m\u001b[0m\u001b[0m\n\u001b[1;32m----> 7\u001b[1;33m         \u001b[0mtimestamp_lst\u001b[0m\u001b[1;33m[\u001b[0m\u001b[0mt\u001b[0m\u001b[1;33m]\u001b[0m \u001b[1;33m=\u001b[0m \u001b[0mpd\u001b[0m\u001b[1;33m.\u001b[0m\u001b[0mTimestamp\u001b[0m\u001b[1;33m(\u001b[0m\u001b[0mstr\u001b[0m\u001b[1;33m(\u001b[0m\u001b[0mdf_raw\u001b[0m\u001b[1;33m[\u001b[0m\u001b[1;34m\"YYYY\"\u001b[0m\u001b[1;33m]\u001b[0m\u001b[1;33m[\u001b[0m\u001b[0mt\u001b[0m\u001b[1;33m]\u001b[0m\u001b[1;33m)\u001b[0m\u001b[1;33m+\u001b[0m\u001b[1;34m\"-\"\u001b[0m\u001b[1;33m+\u001b[0m\u001b[0mstr\u001b[0m\u001b[1;33m(\u001b[0m\u001b[0mdf_raw\u001b[0m\u001b[1;33m[\u001b[0m\u001b[1;34m\"MM\"\u001b[0m\u001b[1;33m]\u001b[0m\u001b[1;33m[\u001b[0m\u001b[0mt\u001b[0m\u001b[1;33m]\u001b[0m\u001b[1;33m)\u001b[0m\u001b[1;33m+\u001b[0m\u001b[1;34m\"-\"\u001b[0m\u001b[1;33m+\u001b[0m\u001b[0mstr\u001b[0m\u001b[1;33m(\u001b[0m\u001b[0mdf_raw\u001b[0m\u001b[1;33m[\u001b[0m\u001b[1;34m\"DD\"\u001b[0m\u001b[1;33m]\u001b[0m\u001b[1;33m[\u001b[0m\u001b[0mt\u001b[0m\u001b[1;33m]\u001b[0m\u001b[1;33m)\u001b[0m \u001b[1;33m+\u001b[0m\u001b[1;34m\" \"\u001b[0m\u001b[1;33m+\u001b[0m\u001b[0mstr\u001b[0m\u001b[1;33m(\u001b[0m\u001b[0mdf_raw\u001b[0m\u001b[1;33m[\u001b[0m\u001b[1;34m\"Hr\"\u001b[0m\u001b[1;33m]\u001b[0m\u001b[1;33m[\u001b[0m\u001b[0mt\u001b[0m\u001b[1;33m]\u001b[0m\u001b[1;33m)\u001b[0m\u001b[1;33m+\u001b[0m\u001b[1;34m\":\"\u001b[0m\u001b[1;33m+\u001b[0m\u001b[0mstr\u001b[0m\u001b[1;33m(\u001b[0m\u001b[0mdf_raw\u001b[0m\u001b[1;33m[\u001b[0m\u001b[1;34m\"Min\"\u001b[0m\u001b[1;33m]\u001b[0m\u001b[1;33m[\u001b[0m\u001b[0mt\u001b[0m\u001b[1;33m]\u001b[0m\u001b[1;33m)\u001b[0m\u001b[1;33m+\u001b[0m\u001b[1;34m\":\"\u001b[0m\u001b[1;33m+\u001b[0m\u001b[0mstr\u001b[0m\u001b[1;33m(\u001b[0m\u001b[0mdf_raw\u001b[0m\u001b[1;33m[\u001b[0m\u001b[1;34m\"Sec\"\u001b[0m\u001b[1;33m]\u001b[0m\u001b[1;33m[\u001b[0m\u001b[0mt\u001b[0m\u001b[1;33m]\u001b[0m\u001b[1;33m)\u001b[0m\u001b[1;33m,\u001b[0m\u001b[0mfreq\u001b[0m \u001b[1;33m=\u001b[0m \u001b[1;34m\".1S\"\u001b[0m\u001b[1;33m)\u001b[0m\u001b[1;33m\u001b[0m\u001b[1;33m\u001b[0m\u001b[0m\n\u001b[0m\u001b[0;32m      8\u001b[0m \u001b[1;33m\u001b[0m\u001b[0m\n\u001b[0;32m      9\u001b[0m     \u001b[0mdf\u001b[0m \u001b[1;33m=\u001b[0m \u001b[0mpd\u001b[0m\u001b[1;33m.\u001b[0m\u001b[0mDataFrame\u001b[0m\u001b[1;33m(\u001b[0m\u001b[1;33m)\u001b[0m\u001b[1;33m\u001b[0m\u001b[1;33m\u001b[0m\u001b[0m\n",
      "\u001b[1;32mpandas/_libs/tslibs/timestamps.pyx\u001b[0m in \u001b[0;36mpandas._libs.tslibs.timestamps.Timestamp.__new__\u001b[1;34m()\u001b[0m\n",
      "\u001b[1;32mpandas/_libs/tslibs/offsets.pyx\u001b[0m in \u001b[0;36mpandas._libs.tslibs.offsets.to_offset\u001b[1;34m()\u001b[0m\n",
      "\u001b[1;32mC:\\ProgramData\\Anaconda3\\lib\\importlib\\_bootstrap.py\u001b[0m in \u001b[0;36m_find_and_load\u001b[1;34m(name, import_)\u001b[0m\n",
      "\u001b[1;32mC:\\ProgramData\\Anaconda3\\lib\\importlib\\_bootstrap.py\u001b[0m in \u001b[0;36m_find_and_load_unlocked\u001b[1;34m(name, import_)\u001b[0m\n",
      "\u001b[1;32mC:\\ProgramData\\Anaconda3\\lib\\importlib\\_bootstrap.py\u001b[0m in \u001b[0;36m_find_spec\u001b[1;34m(name, path, target)\u001b[0m\n",
      "\u001b[1;32mC:\\ProgramData\\Anaconda3\\lib\\importlib\\_bootstrap_external.py\u001b[0m in \u001b[0;36mfind_spec\u001b[1;34m(cls, fullname, path, target)\u001b[0m\n",
      "\u001b[1;32mC:\\ProgramData\\Anaconda3\\lib\\importlib\\_bootstrap_external.py\u001b[0m in \u001b[0;36m_get_spec\u001b[1;34m(cls, fullname, path, target)\u001b[0m\n",
      "\u001b[1;32mC:\\ProgramData\\Anaconda3\\lib\\importlib\\_bootstrap_external.py\u001b[0m in \u001b[0;36mfind_spec\u001b[1;34m(self, fullname, target)\u001b[0m\n",
      "\u001b[1;32mC:\\ProgramData\\Anaconda3\\lib\\importlib\\_bootstrap_external.py\u001b[0m in \u001b[0;36m_path_stat\u001b[1;34m(path)\u001b[0m\n",
      "\u001b[1;31mKeyboardInterrupt\u001b[0m: "
     ]
    },
    {
     "data": {
      "image/png": "[encoded data removed]",
      "text/plain": [
       "<Figure size 1296x864 with 12 Axes>"
      ]
     },
     "metadata": {
      "needs_background": "light"
     },
     "output_type": "display_data"
    }
   ],
   "source": [
    "%%time\n",
    "n_list = [21000,15000,20000,30000,15000,6000,25000,18000,30000,60000,50000,180000,40000,25000,25000,27000,\\\n",
    "         45000,20000,25000,25000,35000,27000,25000,15000,35000,45000,20000,40000]\n",
    "#path=\"/home/joey/Desktop/10X10_Truss_SERDP_Burns_May_2018/JS_Cleaned_Data/Burn-\" #79 \n",
    "path = \"/Users/joeyp/Desktop/10X10_Truss_SERDP_Burns/JS_Cleaned_Data/Burn-\" #w10\n",
    "path_end = \"/sonics/\"\n",
    "burns = [1,2,3,4,5,6,7,8,11,12,13,18,19,20,21,22,23,24,25,26,27,28,29,30,31,32,33,34]\n",
    "\n",
    "### Plotting stuff \n",
    "sonic_list = [\"A1\",\"A2\",\"A3\",\"A4\", \"B1\",\"B2\", \"B3\", \"B4\", \"C1\", \"C2\",\"C3\", \"C4\", \"D1\", \"D2\", \"D3\", \"D4\"]*2\n",
    "x_loc_1= list(np.arange(1,17,1))\n",
    "x_loc_2 = list(np.arange (17.5,33,1))\n",
    "x_loc = x_loc_1 + x_loc_2\n",
    "\n",
    "y_loc =np.arange(0.0,1.1,0.1)\n",
    "y_tick_names  = np.arange(0,110,10)\n",
    "fig, ax = plt.subplots(nrows=3,ncols=4,figsize=(18,12))#, sharey=True)\n",
    "### Keep out of loop\n",
    "file_count = 0\n",
    "for col in range(3):\n",
    "    for row in range(4):\n",
    "        burn_path= str(path + str(burns[file_count])+path_end)\n",
    "        pre_burn_Q_lst, burn_Q_lst,  pre_WT_ave, brn_WT_ave, x_fire_lst, brn_n_lst, brn_len_min = burn_averages(burn_path, n_list[file_count])\n",
    "        \n",
    "        axs = ax[ col, row]\n",
    "\n",
    "        x1, x2 = 1, 17.5\n",
    "        for i in range(16):\n",
    "            axs.bar(x1, pre_burn_Q_lst[i][1],label = \"II (Outward Int.)\",color = \"limegreen\", bottom=pre_burn_Q_lst[i][0])\n",
    "            axs.bar(x1, pre_burn_Q_lst[i][2],label = \"III (Sweep)\",color =\"royalblue\", bottom=pre_burn_Q_lst[i][0]+pre_burn_Q_lst[i][1])\n",
    "            axs.bar(x1, pre_burn_Q_lst[i][0],label = \"I (Ejection)\",color=\"indianred\")\n",
    "            axs.bar(x1, pre_burn_Q_lst[i][3],label = \"IV (Inward Int.)\",color = \"orange\",  bottom=pre_burn_Q_lst[i][0]+pre_burn_Q_lst[i][1]+pre_burn_Q_lst[i][2])\n",
    "\n",
    "            axs.bar(x2, burn_Q_lst[i][1],label = \"II (Outward Int.)\",color = \"limegreen\", bottom=burn_Q_lst[i][0])\n",
    "            axs.bar(x2, burn_Q_lst[i][2],label = \"III (Sweep)\",color =\"royalblue\", bottom=burn_Q_lst[i][0]+burn_Q_lst[i][1])\n",
    "            axs.bar(x2, burn_Q_lst[i][0],label = \"I (Ejection)\",color=\"indianred\")\n",
    "            axs.bar(x2, burn_Q_lst[i][3],label = \"IV (Inward Int.)\",color = \"orange\",  bottom=burn_Q_lst[i][0]+burn_Q_lst[i][1]+burn_Q_lst[i][2])\n",
    "\n",
    "            axs.vlines(16.75,1,0, linestyle = \"--\", color = \"grey\")#alpha = .7)\n",
    "            axs.vlines(33.25,1,0, linestyle = \"--\",color = \"grey\")\n",
    "            axs.set_ylim(0,1)\n",
    "            axs.set_xlim(.25,35.25)\n",
    "            axs.yaxis.grid(linestyle='--', color = \"k\", alpha = .3)\n",
    "            axs.set_yticks(y_loc) \n",
    "            axs.set_yticklabels(y_tick_names, fontsize = 6)\n",
    "\n",
    "\n",
    "            #axs.set_title(\"Pre-Burn Period\"+\"  \"*35+ \"Burn Period\", fontsize = 16, x = .2)\n",
    "            #axs.set_ylabel(\"Percent of Events\", fontsize = 10)\n",
    "            #axs.set_xlabel(\"Sonic\", fontsize = 18, x=.47)\n",
    "            pre_txt = r\" ${t}_{pre}$ =\"+str(round(n_list[file_count]/600,1))+\" $(min)$\"\n",
    "            brn_txt =r\" $\\tilde{t}_{brn}$=\"+str(round(np.median(brn_len_min),1))+\" $(min)$\"\n",
    "            axs.text(14.5,1.03, \"Burn \"+str(burns[file_count]), fontsize = 17)\n",
    "            \n",
    "            axs.text(23,1.01,brn_txt, fontsize = 11, weight = \"light\"  )\n",
    "            axs.text(0,1.01,pre_txt, fontsize = 11, weight = \"light\" )\n",
    "\n",
    "            axs.text(1,-.17,\" $\\overline{T{}'W{}'}_{pre}$=\" + str(round(np.mean(pre_WT_ave), 2))+ r\" ($\\frac{m}{s} \\cdot {K}$)\" , fontsize = 10, color = \"purple\")\n",
    "            axs.text(18,-.17, \"$\\overline{T{}'W{}'}_{brn}$= \" + str(round(np.mean(brn_WT_ave), 2))+ r\" ($\\frac{m}{s} \\cdot {K}$)\", fontsize = 10, color = \"purple\")\n",
    "\n",
    "            #axs2 = axs.twinx()\n",
    "            #axs2.boxplot(brn_len_min,widths=1, positions = [34.25])\n",
    "\n",
    "            #axs2.set_yticks(axs2_ytic_loc)\n",
    "            #axs2.tick_params(axis=\"y\", labelsize=6)\n",
    "            #for i in range(len(brn_len_min)):\n",
    "              #  if brn_len_min[i]> np.median(brn_len_min)+stats.iqr(brn_len_min)*1.5 or \\\n",
    "              #      brn_len_min[i]<np.median(brn_len_min)-stats.iqr(brn_len_min)*1.5:\n",
    "\n",
    "             #       axs2.text(35.25, brn_len_min[i], sonic_list[i],fontsize=6, weight = \"light\", color = \"b\")\n",
    "\n",
    "            #axs.set_xticks(x_loc)\n",
    "            #axs.set_xticklabels(sonic_list, fontsize=8,rotation='vertical')   \n",
    "      \n",
    "            x1 += 1\n",
    "            x2 += 1\n",
    "        file_count += 1 \n",
    "    \n",
    "handles, labels = axs.get_legend_handles_labels()\n",
    "fig.legend(handles[:4], labels[:4], ncol = 2, fontsize = 14, bbox_to_anchor=(.8, .99), framealpha = .8)\n",
    "fig.suptitle(\"Heat Flux Averages\", fontsize = 28, y = .97, x = .35, fontweight = \"bold\")\n",
    "fig.text(0.015,0.39,\"Percent of Events\", rotation  = 90, fontsize = 16)\n",
    "#fig.text(0.97, 0.375,\"Burn Duration (mins)\", rotation = 270, fontsize = 18)\n",
    "fig.text(0.48,0.015, \"Sonic\", fontsize = 18)\n",
    "fig.tight_layout()\n",
    "fig.subplots_adjust(hspace=0.29,wspace=0.16, top=0.9, left = 0.05, right = .95, bottom = .07)\n",
    "\n",
    "#fig.savefig(\"rough_ave_fixed_5sig-no-whisker.png\", dpi = 350)\n",
    "### Took 56mins and 45s to run on W10 Desktop"
   ]
  },
  {
   "cell_type": "code",
   "execution_count": 6,
   "metadata": {},
   "outputs": [
    {
     "name": "stdout",
     "output_type": "stream",
     "text": [
      "CPU times: user 1min 33s, sys: 191 ms, total: 1min 33s\n",
      "Wall time: 1min 33s\n"
     ]
    }
   ],
   "source": [
    "%%time\n",
    "burn_path=\"/home/joey/Desktop/10X10_Truss_SERDP_Burns/JS_Cleaned_Data/Burn-9/sonics/\" \n",
    "#burn_path  = \"/Users/joeyp/Desktop/10X10_Truss_SERDP_Burns/JS_Cleaned_Data/Burn-29/sonics/\" #w10\n",
    "\n",
    "pre_burn_Q_lst, burn_Q_lst,  pre_WT_ave, brn_WT_ave, x_fire_lst, brn_n_lst, brn_len_min = burn_averages(burn_path, 20000)"
   ]
  },
  {
   "cell_type": "code",
   "execution_count": 7,
   "metadata": {},
   "outputs": [
    {
     "name": "stdout",
     "output_type": "stream",
     "text": [
      "CPU times: user 1.11 s, sys: 28 ms, total: 1.14 s\n",
      "Wall time: 1.16 s\n"
     ]
    },
    {
     "data": {
      "image/png": "[encoded data removed]",
      "text/plain": [
       "<Figure size 1008x576 with 2 Axes>"
      ]
     },
     "metadata": {
      "needs_background": "light"
     },
     "output_type": "display_data"
    }
   ],
   "source": [
    "%%time\n",
    "sonic_list = [\"A1\",\"A2\",\"A3\",\"A4\", \"B1\",\"B2\", \"B3\", \"B4\", \"C1\", \"C2\",\"C3\", \"C4\", \"D1\", \"D2\", \"D3\", \"D4\"]\n",
    "x_loc= np.arange(1,17,1)\n",
    "y_loc =np.arange(0.0,1.1,0.1)\n",
    "y_tick_names  = np.arange(0,110,10)\n",
    "fig, axs = plt.subplots(nrows=1,ncols=2,figsize=(14,8),sharex=True, sharey=True)\n",
    "ax1 = axs[ 0]\n",
    "x = 1\n",
    "pre_txt = r\" ${t}_{pre}$ =\"+str(round(15000/600,1))+\" $(min)$\"\n",
    "\n",
    "for i in range(16):\n",
    "    ax1.bar(x, pre_burn_Q_lst[i][1],label = \"II (Outward Int.)\",color = \"limegreen\", bottom=pre_burn_Q_lst[i][0])\n",
    "    ax1.bar(x, pre_burn_Q_lst[i][2],label = \"III (Sweep)\",color =\"royalblue\", bottom=pre_burn_Q_lst[i][0]+pre_burn_Q_lst[i][1])\n",
    "    ax1.bar(x, pre_burn_Q_lst[i][0],label = \"I (Ejection)\",color=\"indianred\")\n",
    "    ax1.bar(x, pre_burn_Q_lst[i][3],label = \"IV (Inward Int.)\",color = \"orange\",  bottom=pre_burn_Q_lst[i][0]+pre_burn_Q_lst[i][1]+pre_burn_Q_lst[i][2])\n",
    "    ax1.set_ylim(0,1)\n",
    "    ax1.set_yticks(y_loc)\n",
    "    ax1.set_yticklabels(y_tick_names,fontsize = 16)\n",
    "    ax1.set_xticks(x_loc)\n",
    "    ax1.set_xticklabels(sonic_list,fontsize = 16)\n",
    "    ax1.set_title(r\"Pre-Burn Period\", fontsize = 16, x = .3)\n",
    "    #ax1.text(11,-.08,\" $\\overline{T{}'W{}'}$ =\" + str(round(np.mean(pre_WT_ave), 2)) + r\" ($\\frac{m}{s} \\cdot {K}$)\", fontsize = 14, color = \"purple\")\n",
    "    x += 1\n",
    "\n",
    "x=1\n",
    "ax2 = axs[ 1]\n",
    "brn_txt =r\" ${t}_{brn}$=\"+str(round(np.median(brn_len_min),1))+\" $(min)$\"\n",
    "for i in range(16):\n",
    "    ax2.bar(x, burn_Q_lst[i][1],label = \"II (Outward Int.)\",color = \"limegreen\", bottom=burn_Q_lst[i][0])\n",
    "    ax2.bar(x, burn_Q_lst[i][2],label = \"III (Sweep)\",color =\"royalblue\", bottom=burn_Q_lst[i][0]+burn_Q_lst[i][1])\n",
    "    ax2.bar(x, burn_Q_lst[i][0],label = \"I (Ejection)\",color=\"indianred\")\n",
    "    ax2.bar(x, burn_Q_lst[i][3],label = \"IV (Inward Int.)\",color = \"orange\",  bottom=burn_Q_lst[i][0]+burn_Q_lst[i][1]+burn_Q_lst[i][2])\n",
    "    ax2.set_ylim(0,1)\n",
    "    ax2.set_xlim(.25,16.75)\n",
    "    ax2.set_xticks(x_loc)\n",
    "    ax2.set_xticklabels(sonic_list,fontsize = 16)\n",
    "    ax2.set_title(\"Burn Period\", x=.5, fontsize = 16)\n",
    "    #ax2.text(11,-.08, \"$\\overline{T{}'W{}'}$ = \" + str(round(np.mean(brn_WT_ave), 2))+ r\" ($\\frac{m}{s} \\cdot {K}$)\", fontsize = 14, color = \"purple\")\n",
    "    x += 1\n",
    "\n",
    "    \n",
    "fig.text(.55,.05,brn_txt  + \"   $\\overline{T{}'W{}'}_{brn}$ = \" + str(round(np.nanmean(brn_WT_ave), 2))+ r\" ($\\frac{m}{s} \\cdot {K}$)\", fontsize = 18, color = \"purple\")\n",
    "fig.text(.15,.05,pre_txt+ \"   $\\overline{T{}'W{}'}_{pre}$ = \" + str(round(np.nanmean(pre_WT_ave), 2))+ r\" ($\\frac{m}{s} \\cdot {K}$)\" , fontsize = 18, color = \"purple\")\n",
    "fig.text(0.48,0.01, \"Sonics\", fontsize = 20,)\n",
    "ax1.yaxis.grid(linestyle='--', color = \"k\", alpha = .7)\n",
    "ax2.yaxis.grid(linestyle='--',color = \"k\", alpha = .7)\n",
    "ax1.set_ylabel(\"Percent of Events\", fontsize = 18)\n",
    "\n",
    "handles, labels = ax1.get_legend_handles_labels()\n",
    "fig.legend(handles[:4], labels[:4], ncol = 2, fontsize = 12,loc= \"center\", bbox_to_anchor=(.51,.92), framealpha = .2)\n",
    "fig.subplots_adjust(hspace=0.1,wspace=0)\n",
    "fig.suptitle(\"Heat Flux Averages Burn #09 (05-10-2018)\", fontsize = 20, y = .99 )\n",
    "fig.savefig(\"Burn-09_aveplot.png\", dpi = 400)"
   ]
  },
  {
   "cell_type": "code",
   "execution_count": null,
   "metadata": {},
   "outputs": [],
   "source": [
    "#for i in range(len(brn_Qlst)):\n",
    "pre_burn_Q_lst"
   ]
  },
  {
   "cell_type": "code",
   "execution_count": null,
   "metadata": {},
   "outputs": [],
   "source": [
    "pre_Q1_full, pre_Q2_full = [], []\n",
    "pre_Q3_full, pre_Q4_full = [], []\n",
    "\n",
    "brn_Q1_full, brn_Q2_full = [], []\n",
    "brn_Q3_full, brn_Q4_full = [], []\n",
    "\n",
    "for i in range(16):\n",
    "    pre_Q1_full.append(pre_burn_Q_lst[i][0])\n",
    "    pre_Q2_full.append(pre_burn_Q_lst[i][1])\n",
    "    pre_Q3_full.append(pre_burn_Q_lst[i][2])\n",
    "    pre_Q4_full.append(pre_burn_Q_lst[i][3])\n",
    "    \n",
    "    brn_Q1_full.append(burn_Q_lst[i][0])\n",
    "    brn_Q2_full.append(burn_Q_lst[i][1])\n",
    "    brn_Q3_full.append(burn_Q_lst[i][2])\n",
    "    brn_Q4_full.append(burn_Q_lst[i][3])"
   ]
  },
  {
   "cell_type": "code",
   "execution_count": null,
   "metadata": {},
   "outputs": [],
   "source": [
    "PQ1, PQ2 = sum(pre_Q1_full)/16, sum(pre_Q2_full)/16\n",
    "PQ3, PQ4 = sum(pre_Q3_full)/16, sum(pre_Q4_full)/16\n",
    "\n",
    "BQ1, BQ2 = sum(brn_Q1_full)/16, sum(brn_Q2_full)/16\n",
    "BQ3, BQ4 = sum(brn_Q3_full)/16, sum(brn_Q4_full)/16"
   ]
  },
  {
   "cell_type": "code",
   "execution_count": null,
   "metadata": {},
   "outputs": [],
   "source": [
    "fig, axs = plt.subplots(nrows=1,ncols=1,figsize=(8,6),sharex=True, sharey=True)\n",
    "axs.grid(alpha = .1)\n",
    "axs.bar(1, PQ2,label = \"II (Outward Int.)\",color = \"limegreen\", bottom=PQ1)\n",
    "axs.bar(1, PQ3,label = \"III (Sweep)\",color =\"royalblue\", bottom=PQ1+PQ2)\n",
    "axs.bar(1, PQ1,label = \"I (Ejection)\",color=\"indianred\")\n",
    "axs.bar(1, PQ4,label = \"IV (Inward Int.)\",color = \"orange\",  bottom=PQ1+PQ2+PQ3)\n",
    "\n",
    "axs.bar(2, BQ2,label = \"II (Outward Int.)\",color = \"limegreen\", bottom=BQ1)\n",
    "axs.bar(2, BQ3,label = \"III (Sweep)\",color =\"royalblue\", bottom=BQ1+BQ2)\n",
    "axs.bar(2, BQ1,label = \"I (Ejection)\",color=\"indianred\")\n",
    "axs.bar(2, BQ4,label = \"IV (Inward Int.)\",color = \"orange\",  bottom=BQ1+BQ2+BQ3)\n"
   ]
  },
  {
   "cell_type": "code",
   "execution_count": null,
   "metadata": {},
   "outputs": [],
   "source": []
  },
  {
   "cell_type": "code",
   "execution_count": null,
   "metadata": {
    "scrolled": true
   },
   "outputs": [],
   "source": [
    "\n",
    "\n",
    "#fig, axs = plt.subplots(figsize = (1,8))\n",
    "#axs.boxplot(brn_len_min, positions = [1])   \n",
    "    \n",
    "#for i in range(len(brn_len_min)):\n",
    "#    if brn_len_min[i]> np.median(brn_len_min)+stats.iqr(brn_len_min)*1.5 or \\\n",
    "#        brn_len_min[i]<np.median(brn_len_min)-stats.iqr(brn_len_min)*1.5:\n",
    "#        \n",
    "#        axs.text(1.05, brn_len_min[i], sonic_list[i])"
   ]
  },
  {
   "cell_type": "code",
   "execution_count": 72,
   "metadata": {
    "scrolled": true
   },
   "outputs": [
    {
     "name": "stdout",
     "output_type": "stream",
     "text": [
      "41.1 µs ± 296 ns per loop (mean ± std. dev. of 7 runs, 10000 loops each)\n"
     ]
    }
   ],
   "source": [
    "%%timeit\n",
    "#path=\"/home/joey/Desktop/10X10_Truss_SERDP_Burns_May_2018/JS_Cleaned_Data/Burn-4/sonics/\" #79 location\n",
    "#path= \"/home/JoeySeitz/10X10_Truss_SERDP_Burns_May_2018/JS_Cleaned_Data/Burn-2/sonics/\"  #134 location\n",
    "\n",
    "path = \"/Users/joeyp/Desktop/10X10_Truss_SERDP_Burns/JS_Cleaned_Data/Burn-2/sonics/\" #w10 location\n",
    "\n",
    "txt_files = text_finder(path)\n",
    "#df_raw  = pd.read_csv(path + txt_files[0],na_values = ['NAN', \"00nan\"], sep = \" \")  "
   ]
  },
  {
   "cell_type": "code",
   "execution_count": 69,
   "metadata": {},
   "outputs": [
    {
     "name": "stdout",
     "output_type": "stream",
     "text": [
      "['A1_UVWT_Burn-2.txt', 'A2_UVWT_Burn-2.txt', 'A3_UVWT_Burn-2.txt', 'A4_UVWT_Burn-2.txt', 'B1_UVWT_Burn-2.txt', 'B2_UVWT_Burn-2.txt', 'B3_UVWT_Burn-2.txt', 'B4_UVWT_Burn-2.txt', 'C1_UVWT_Burn-2.txt', 'C2_UVWT_Burn-2.txt', 'C3_UVWT_Burn-2.txt', 'C4_UVWT_Burn-2.txt', 'D1_UVWT_Burn-2.txt', 'D2_UVWT_Burn-2.txt', 'D3_UVWT_Burn-2.txt', 'D4_UVWT_Burn-2.txt', 'WGNover_UVWT_Burn-2.txt']\n"
     ]
    }
   ],
   "source": [
    "print(txt_files)"
   ]
  },
  {
   "cell_type": "code",
   "execution_count": null,
   "metadata": {},
   "outputs": [],
   "source": []
  }
 ],
 "metadata": {
  "kernelspec": {
   "display_name": "Python 3",
   "language": "python",
   "name": "python3"
  },
  "language_info": {
   "codemirror_mode": {
    "name": "ipython",
    "version": 3
   },
   "file_extension": ".py",
   "mimetype": "text/x-python",
   "name": "python",
   "nbconvert_exporter": "python",
   "pygments_lexer": "ipython3",
   "version": "3.7.3"
  }
 },
 "nbformat": 4,
 "nbformat_minor": 2
}
